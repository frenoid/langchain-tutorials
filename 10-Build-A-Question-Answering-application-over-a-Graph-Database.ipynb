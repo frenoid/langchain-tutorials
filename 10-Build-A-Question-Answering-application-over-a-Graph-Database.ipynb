{
 "cells": [
  {
   "cell_type": "markdown",
   "id": "77a5797c-4722-42a4-b4cf-d0eb98238ddf",
   "metadata": {},
   "source": [
    "# Build a Question Answering application over a Graph Database\n",
    "Adapted from a tutorial on [langchain.com](https://python.langchain.com/v0.2/docs/tutorials/graph/)\n",
    "\n",
    "In this guide we'll go over the basic ways to create a Q&A chain over a graph database. These systems will allow us to ask a question about the data in a graph database and get back a natural language answer.\n",
    "\n",
    "## ⚠️ Security note ⚠️\n",
    "Building Q&A systems of graph databases requires executing model-generated graph queries. There are inherent risks in doing this. Make sure that your database connection permissions are always scoped as narrowly as possible for your chain/agent's needs. This will mitigate though not eliminate the risks of building a model-driven system. For more on general security best practices, see [here](https://python.langchain.com/v0.2/docs/security/).\n",
    "\n",
    "## Architecture\n",
    "At a high-level, the steps of most graph chains are:\n",
    "\n",
    "1. Convert question to a graph database query: Model converts user input to a graph database query (e.g. Cypher).\n",
    "2. Execute graph database query: Execute the graph database query.\n",
    "3. Answer the question: Model responds to user input using the query results."
   ]
  },
  {
   "cell_type": "markdown",
   "id": "24d1fb9a-aaf0-4c85-a885-b244c310d2b8",
   "metadata": {},
   "source": [
    "## Setup\n",
    "First, get required packages and set environment variables. In this example, we will be using Neo4j graph database."
   ]
  },
  {
   "cell_type": "code",
   "execution_count": 1,
   "id": "0e13b9f7-9525-4054-8521-0b0041a75e53",
   "metadata": {
    "tags": []
   },
   "outputs": [
    {
     "name": "stdout",
     "output_type": "stream",
     "text": [
      "\u001b[33m  WARNING: The script openai is installed in '/home/ubuntu/.local/bin' which is not on PATH.\n",
      "  Consider adding this directory to PATH or, if you prefer to suppress this warning, use --no-warn-script-location.\u001b[0m\u001b[33m\n",
      "\u001b[0mNote: you may need to restart the kernel to use updated packages.\n"
     ]
    }
   ],
   "source": [
    "%pip install --upgrade --quiet  langchain langchain-community langchain-openai neo4j"
   ]
  },
  {
   "cell_type": "markdown",
   "id": "d5b5a2ba-5411-4c95-9e41-dc5d6a7d128c",
   "metadata": {},
   "source": [
    "A non exhaustive list of Python packages used is re-produced here\n",
    "\n",
    "```bash\n",
    "langchain==0.2.6\n",
    "langchain-chroma==0.1.2\n",
    "langchain-community==0.2.6\n",
    "langchain-core==0.2.10\n",
    "langchain-openai==0.1.13\n",
    "langchain-text-splitters==0.2.0\n",
    "langchainhub==0.1.20\n",
    "langgraph==0.0.60\n",
    "langserve==0.2.1\n",
    "langsmith==0.1.81\n",
    "neo4j==5.22.0\n",
    "```\n",
    "\n",
    "### Setting credentials with python-dot-env\n",
    "Load credentials from a `.env` file and the [python-dotenv package](https://pypi.org/project/python-dotenv/)"
   ]
  },
  {
   "cell_type": "code",
   "execution_count": 3,
   "id": "cd0a66c2-f3ee-442b-9041-ddc7f7989dfb",
   "metadata": {
    "tags": []
   },
   "outputs": [],
   "source": [
    "import os\n",
    "from dotenv import load_dotenv\n",
    "\n",
    "load_dotenv()\n",
    "assert os.environ[\"OPENAI_API_KEY\"]"
   ]
  },
  {
   "cell_type": "markdown",
   "id": "4c832a31-24f4-4c9c-8282-dca88a9d5d2d",
   "metadata": {},
   "source": [
    "### Setup Neo4j\n",
    "We will use Docker to run Neo4j in a container\n",
    "```bash\n",
    "docker run \\\n",
    "    --name neo4jdb \\\n",
    "    --detach \\\n",
    "    --rm \\\n",
    "    --env NEO4J_apoc_export_file_enabled=true \\\n",
    "    --env NEO4J_apoc_import_file_enabled=true \\\n",
    "    --env NEO4J_apoc_import_file_use__neo4j__config=true \\\n",
    "    --env NEO4J_PLUGINS='[\"apoc\"]' \\\n",
    "    --env NEO4J_dbms_security_procedures_unrestricted=apoc.* \\\n",
    "    --env NEO4J_dbms_security_procedures_allowlist=apoc.* \\\n",
    "    --publish=7474:7474 --publish=7687:7687 \\\n",
    "    --env NEO4J_AUTH=neo4j/password \\\n",
    "    neo4j:5.21.0\n",
    "```\n",
    "\n",
    "The username will be `neo4j` and the password will be `password`\n",
    "\n",
    "### Test the connection\n",
    "Set up the credentials as `ENV`"
   ]
  },
  {
   "cell_type": "code",
   "execution_count": 18,
   "id": "a552d169-46f0-43b2-9b64-387be63d71e8",
   "metadata": {
    "tags": []
   },
   "outputs": [],
   "source": [
    "os.environ[\"NEO4J_URI\"] = \"bolt://localhost:7687\"\n",
    "os.environ[\"NEO4J_USERNAME\"] = \"neo4j\"\n",
    "os.environ[\"NEO4J_PASSWORD\"] = \"password\""
   ]
  },
  {
   "cell_type": "markdown",
   "id": "533a00c0-72c5-4f36-bd94-c4bd384ed343",
   "metadata": {},
   "source": [
    "The example below creates a connection with a Neo4j database and will populate it with example data about movies and their actors."
   ]
  },
  {
   "cell_type": "code",
   "execution_count": 22,
   "id": "664bf6ed-f1f2-4633-9146-5c38deb5a781",
   "metadata": {
    "tags": []
   },
   "outputs": [
    {
     "data": {
      "text/plain": [
       "[]"
      ]
     },
     "execution_count": 22,
     "metadata": {},
     "output_type": "execute_result"
    }
   ],
   "source": [
    "from langchain_community.graphs import Neo4jGraph\n",
    "\n",
    "graph = Neo4jGraph()\n",
    "\n",
    "# Import movie information\n",
    "\n",
    "movies_query = \"\"\"\n",
    "LOAD CSV WITH HEADERS FROM \n",
    "'https://raw.githubusercontent.com/tomasonjo/blog-datasets/main/movies/movies.csv'\n",
    "AS row\n",
    "MERGE (m:Movie {id:row.movieId})\n",
    "SET m.released = date(row.released),\n",
    "    m.title = row.title,\n",
    "    m.imdbRating = toFloat(row.imdbRating)\n",
    "FOREACH (director in split(row.director, '|') | \n",
    "    MERGE (p:Person {name:trim(director)})\n",
    "    MERGE (p)-[:DIRECTED]->(m))\n",
    "FOREACH (actor in split(row.actors, '|') | \n",
    "    MERGE (p:Person {name:trim(actor)})\n",
    "    MERGE (p)-[:ACTED_IN]->(m))\n",
    "FOREACH (genre in split(row.genres, '|') | \n",
    "    MERGE (g:Genre {name:trim(genre)})\n",
    "    MERGE (m)-[:IN_GENRE]->(g))\n",
    "\"\"\"\n",
    "\n",
    "graph.query(movies_query)"
   ]
  },
  {
   "cell_type": "markdown",
   "id": "5ec489f9-4eb5-4d04-adc5-9a98fc259458",
   "metadata": {},
   "source": [
    "__API Reference__: [Neo4jGraph](https://api.python.langchain.com/en/latest/graphs/langchain_community.graphs.neo4j_graph.Neo4jGraph.html)"
   ]
  },
  {
   "cell_type": "markdown",
   "id": "06f28d1c-37ba-4345-85ce-395f40c9d949",
   "metadata": {},
   "source": [
    "## Graph schema\n",
    "In order for an LLM to be able to generate a Cypher statement, it needs information about the graph schema. When you instantiate a graph object, it retrieves the information about the graph schema. If you later make any changes to the graph, you can run the `refresh_schema` method to refresh the schema information."
   ]
  },
  {
   "cell_type": "code",
   "execution_count": 24,
   "id": "dc137b49-2edd-418d-93aa-3a185b984676",
   "metadata": {
    "tags": []
   },
   "outputs": [
    {
     "name": "stdout",
     "output_type": "stream",
     "text": [
      "Node properties:\n",
      "Movie {imdbRating: FLOAT, id: STRING, released: DATE, title: STRING}\n",
      "Person {name: STRING}\n",
      "Genre {name: STRING}\n",
      "Relationship properties:\n",
      "\n",
      "The relationships:\n",
      "(:Movie)-[:IN_GENRE]->(:Genre)\n",
      "(:Person)-[:DIRECTED]->(:Movie)\n",
      "(:Person)-[:ACTED_IN]->(:Movie)\n"
     ]
    }
   ],
   "source": [
    "graph.refresh_schema()\n",
    "print(graph.schema)"
   ]
  },
  {
   "cell_type": "markdown",
   "id": "5854f1a2-f436-4976-b2eb-37820f6f820f",
   "metadata": {},
   "source": [
    "Great! We've got a graph database that we can query. Now let's try hooking it up to an LLM."
   ]
  },
  {
   "cell_type": "markdown",
   "id": "39fcfd74-3c57-47bd-ad5b-1b74c4904b21",
   "metadata": {
    "tags": []
   },
   "source": [
    "## Chain\n",
    "Let's use a simple chain that takes a question, turns it into a Cypher query, executes the query, and uses the result to answer the original question.\n",
    "\n",
    "1. The User asks a question\n",
    "2. The LangChain Cypher module translates the question into a Cyyper statement\n",
    "3. The generated Cypher is used to query the Neo4j database\n",
    "4. The results from the database are converted to natural language\n",
    "5. The answer is returned to the user\n",
    "\n",
    "LangChain comes with a built-in chain for this workflow that is designed to work with Neo4j: [GraphCypherQAChain](https://python.langchain.com/v0.2/docs/integrations/graphs/neo4j_cypher/)\n",
    "\n"
   ]
  },
  {
   "cell_type": "code",
   "execution_count": 12,
   "id": "3678e57c-1f94-4f45-8022-a5395a552957",
   "metadata": {
    "tags": []
   },
   "outputs": [
    {
     "name": "stdout",
     "output_type": "stream",
     "text": [
      "\n",
      "\n",
      "\u001b[1m> Entering new GraphCypherQAChain chain...\u001b[0m\n",
      "Generated Cypher:\n",
      "\u001b[32;1m\u001b[1;3mMATCH (:Movie {title: 'Casino'})<-[:ACTED_IN]-(actors:Person)\n",
      "RETURN actors.name\u001b[0m\n",
      "Full Context:\n",
      "\u001b[32;1m\u001b[1;3m[{'actors.name': 'James Woods'}, {'actors.name': 'Joe Pesci'}, {'actors.name': 'Robert De Niro'}, {'actors.name': 'Sharon Stone'}]\u001b[0m\n",
      "\n",
      "\u001b[1m> Finished chain.\u001b[0m\n"
     ]
    },
    {
     "data": {
      "text/plain": [
       "{'query': 'What was the cast of the Casino?',\n",
       " 'result': 'The cast of Casino included James Woods, Joe Pesci, Robert De Niro, and Sharon Stone.'}"
      ]
     },
     "execution_count": 12,
     "metadata": {},
     "output_type": "execute_result"
    }
   ],
   "source": [
    "from langchain.chains import GraphCypherQAChain\n",
    "from langchain_openai import ChatOpenAI\n",
    "\n",
    "llm = ChatOpenAI(model=\"gpt-3.5-turbo\",\n",
    "                 temperature=0)\n",
    "chain = GraphCypherQAChain.from_llm(graph=graph,\n",
    "                                    llm=llm,\n",
    "                                    verbose=True)\n",
    "response = chain.invoke({\"query\": \"What was the cast of the Casino?\"})\n",
    "response"
   ]
  },
  {
   "cell_type": "markdown",
   "id": "fd985fd3-e1d4-4bfd-a478-a6b203d30178",
   "metadata": {},
   "source": [
    "__API Reference__: [GraphCypherQAChain](https://api.python.langchain.com/en/latest/chains/langchain_community.chains.graph_qa.cypher.GraphCypherQAChain.html) | [ChatOpenAI](https://api.python.langchain.com/en/latest/chat_models/langchain_openai.chat_models.base.ChatOpenAI.html)"
   ]
  },
  {
   "cell_type": "markdown",
   "id": "bcca542b-f9ce-4082-b125-4f1de997e8ac",
   "metadata": {},
   "source": [
    "## Validating relationship direction\n",
    "LLMs can struggle with relationship directions in generated Cypher statement. Since the graph schema is predefined, we can validate and optionally correct relationship directions in the generated Cypher statements by using the `validate_cypher` parameter."
   ]
  },
  {
   "cell_type": "code",
   "execution_count": 14,
   "id": "526ee228-7128-48a4-8055-8f3d344f9835",
   "metadata": {
    "tags": []
   },
   "outputs": [
    {
     "name": "stdout",
     "output_type": "stream",
     "text": [
      "\n",
      "\n",
      "\u001b[1m> Entering new GraphCypherQAChain chain...\u001b[0m\n",
      "Generated Cypher:\n",
      "\u001b[32;1m\u001b[1;3mMATCH (:Movie {title: \"Casino\"})<-[:ACTED_IN]-(actor:Person)\n",
      "RETURN actor.name\u001b[0m\n",
      "Full Context:\n",
      "\u001b[32;1m\u001b[1;3m[{'actor.name': 'James Woods'}, {'actor.name': 'Joe Pesci'}, {'actor.name': 'Robert De Niro'}, {'actor.name': 'Sharon Stone'}]\u001b[0m\n",
      "\n",
      "\u001b[1m> Finished chain.\u001b[0m\n"
     ]
    },
    {
     "data": {
      "text/plain": [
       "{'query': 'What was the cast of the Casino?',\n",
       " 'result': 'The cast of Casino included James Woods, Joe Pesci, Robert De Niro, and Sharon Stone.'}"
      ]
     },
     "execution_count": 14,
     "metadata": {},
     "output_type": "execute_result"
    }
   ],
   "source": [
    "chain = GraphCypherQAChain.from_llm(\n",
    "    graph=graph,\n",
    "    llm=llm,\n",
    "    verbose=True,\n",
    "    validate_cypher=True # validate and optionally correct relation directions in the generated Cypher statements\n",
    ")\n",
    "response = chain.invoke({\"query\": \"What was the cast of the Casino?\"})\n",
    "response"
   ]
  },
  {
   "cell_type": "code",
   "execution_count": 25,
   "id": "5af05ec2-374d-4622-9525-95c3df62a630",
   "metadata": {
    "tags": []
   },
   "outputs": [
    {
     "name": "stdout",
     "output_type": "stream",
     "text": [
      "\n",
      "\n",
      "\u001b[1m> Entering new GraphCypherQAChain chain...\u001b[0m\n",
      "Generated Cypher:\n",
      "\u001b[32;1m\u001b[1;3mMATCH (m:Movie {title: \"Tombstone\"})<-[:ACTED_IN]-(p:Person)\n",
      "RETURN p.name\u001b[0m\n",
      "Full Context:\n",
      "\u001b[32;1m\u001b[1;3m[{'p.name': 'Val Kilmer'}, {'p.name': 'Kurt Russell'}, {'p.name': 'Sam Elliott'}, {'p.name': 'Bill Paxton'}]\u001b[0m\n",
      "\n",
      "\u001b[1m> Finished chain.\u001b[0m\n"
     ]
    },
    {
     "data": {
      "text/plain": [
       "{'query': 'What was the cast of the Tombstone?',\n",
       " 'result': 'The cast of Tombstone included Val Kilmer, Kurt Russell, Sam Elliott, and Bill Paxton.'}"
      ]
     },
     "execution_count": 25,
     "metadata": {},
     "output_type": "execute_result"
    }
   ],
   "source": [
    "chain = GraphCypherQAChain.from_llm(\n",
    "    graph=graph,\n",
    "    llm=llm,\n",
    "    verbose=True,\n",
    "    validate_cypher=True # validate and optionally correct relation directions in the generated Cypher statements\n",
    ")\n",
    "response = chain.invoke({\"query\": \"What was the cast of the Tombstone?\"})\n",
    "response"
   ]
  },
  {
   "cell_type": "code",
   "execution_count": 30,
   "id": "ec6de441-ceae-4a94-bb55-1121c9ef4337",
   "metadata": {
    "tags": []
   },
   "outputs": [
    {
     "name": "stdout",
     "output_type": "stream",
     "text": [
      "\n",
      "\n",
      "\u001b[1m> Entering new GraphCypherQAChain chain...\u001b[0m\n",
      "Generated Cypher:\n",
      "\u001b[32;1m\u001b[1;3mMATCH (:Movie {title: 'The Godfather'})<-[:ACTED_IN]-(actors:Person)\n",
      "RETURN actors.name\u001b[0m\n",
      "Full Context:\n",
      "\u001b[32;1m\u001b[1;3m[]\u001b[0m\n",
      "\n",
      "\u001b[1m> Finished chain.\u001b[0m\n"
     ]
    },
    {
     "data": {
      "text/plain": [
       "{'query': 'What was the cast of the Godfather?',\n",
       " 'result': \"I don't know the answer.\"}"
      ]
     },
     "execution_count": 30,
     "metadata": {},
     "output_type": "execute_result"
    }
   ],
   "source": [
    "chain = GraphCypherQAChain.from_llm(\n",
    "    graph=graph,\n",
    "    llm=llm,\n",
    "    verbose=True,\n",
    "    validate_cypher=True # validate and optionally correct relation directions in the generated Cypher statements\n",
    ")\n",
    "response = chain.invoke({\"query\": \"What was the cast of the Godfather?\"})\n",
    "response"
   ]
  },
  {
   "cell_type": "markdown",
   "id": "693b8e3e-c3f1-45fc-a944-d7434ebf02a3",
   "metadata": {
    "tags": []
   },
   "source": [
    "### Stop Neo4j container\n",
    "Tear down the Neo4j container\n",
    "```bash\n",
    "docker container stop neo4jdb\n",
    "```\n",
    "\n",
    "Note you used the `--rm` flag earlier, Docker will remove the container upon stopping it"
   ]
  },
  {
   "cell_type": "code",
   "execution_count": null,
   "id": "8b6d773e-8b57-4237-a735-aa50c5b5efa4",
   "metadata": {},
   "outputs": [],
   "source": []
  }
 ],
 "metadata": {
  "kernelspec": {
   "display_name": "Python 3.11 for LLM",
   "language": "python",
   "name": "llm-python-3-11"
  },
  "language_info": {
   "codemirror_mode": {
    "name": "ipython",
    "version": 3
   },
   "file_extension": ".py",
   "mimetype": "text/x-python",
   "name": "python",
   "nbconvert_exporter": "python",
   "pygments_lexer": "ipython3",
   "version": "3.11.8"
  }
 },
 "nbformat": 4,
 "nbformat_minor": 5
}
