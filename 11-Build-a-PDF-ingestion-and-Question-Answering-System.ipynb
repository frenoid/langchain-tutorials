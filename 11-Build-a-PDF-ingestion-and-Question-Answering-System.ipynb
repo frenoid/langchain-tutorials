{
 "cells": [
  {
   "cell_type": "markdown",
   "id": "73873d49-808e-4b73-868c-cc67fa8becb0",
   "metadata": {},
   "source": [
    "# Build a PDF ingestion and Question/Answering system\n",
    "Adapted from a tutorial on [python.langchain.com](https://python.langchain.com/v0.2/docs/tutorials/pdf_qa/)\n",
    "\n",
    "PDF files often hold crucial unstructured data unavailable from other sources. They can be quite lengthy, and unlike plain text files, cannot generally be fed directly into the prompt of a language model.\n",
    "\n",
    "In this tutorial, you'll create a system that can answer questions about PDF files. More specifically, you'll use a [Document Loader](https://python.langchain.com/v0.2/docs/concepts/#document-loaders) to load text in a format usable by an LLM, then build a retrieval-augmented generation (RAG) pipeline to answer questions, including citations from the source material.\n",
    "\n",
    "This tutorial will gloss over some concepts more deeply covered in our [RAG tutorial](https://python.langchain.com/v0.2/docs/tutorials/rag/), so you may want to go through those first if you haven't already.\n",
    "\n",
    "Let's dive in!"
   ]
  },
  {
   "cell_type": "markdown",
   "id": "78b52861-5e0f-4bf0-a49e-557b03c468a3",
   "metadata": {},
   "source": [
    "## Loading documents\n",
    "First, you'll need to choose a PDF to load. We'll use a document from [Nike's annual public SEC report](https://s1.q4cdn.com/806093406/files/doc_downloads/2023/414759-1-_5_Nike-NPS-Combo_Form-10-K_WR.pdf). It's over 100 pages long, and contains some crucial data mixed with longer explanatory text. However, you can feel free to use a PDF of your choosing.\n",
    "\n",
    "Once you've chosen your PDF, the next step is to load it into a format that an LLM can more easily handle, since LLMs generally require text inputs. LangChain has a few different [built-in document loaders](https://python.langchain.com/v0.2/docs/how_to/document_loader_pdf/) for this purpose which you can experiment with. Below, we'll use one powered by the [pypdf](https://pypi.org/project/pypdf/) package that reads from a filepath:\n",
    "\n",
    "Here is an incomplete list of packages used in this notebook\n",
    "\n",
    "```bash\n",
    "langchain==0.2.6\n",
    "langchain-chroma==0.1.2\n",
    "langchain-community==0.2.6\n",
    "langchain-core==0.2.10\n",
    "langchain-openai==0.1.13\n",
    "langchain-text-splitters==0.2.0\n",
    "langchainhub==0.1.20\n",
    "pypdf==4.2.0\n",
    "```"
   ]
  },
  {
   "cell_type": "code",
   "execution_count": 1,
   "id": "c0a3fdb0-49c1-43c0-b5b4-d560e1d54c7c",
   "metadata": {
    "tags": []
   },
   "outputs": [
    {
     "name": "stdout",
     "output_type": "stream",
     "text": [
      "Note: you may need to restart the kernel to use updated packages.\n"
     ]
    }
   ],
   "source": [
    "%pip install -qU pypdf langchain_community"
   ]
  },
  {
   "cell_type": "markdown",
   "id": "35da66c8-5e33-438e-b9fb-f86765814f77",
   "metadata": {},
   "source": [
    "First download the Nike annual public SEC report using the `urllib` Python package"
   ]
  },
  {
   "cell_type": "code",
   "execution_count": 5,
   "id": "95647ded-c4b8-47ff-8f50-e9d83a09e03c",
   "metadata": {
    "tags": []
   },
   "outputs": [
    {
     "name": "stdout",
     "output_type": "stream",
     "text": [
      "Server keycdn\n",
      "Date Tue, 02 Jul 2024 15:19:39 GMT\n",
      "Content-Type application/pdf\n",
      "Content-Length 3463188\n",
      "Connection close\n",
      "x-amz-id-2 95AUgM+RlgNMm73LSi/DJXE2dkdEmI8rwPHfvD7EVZhxjciwHkegojmUYlD8jZ/K7N1kSqyHZ/8=\n",
      "x-amz-request-id BCE7948DRTH03FWM\n",
      "Last-Modified Sat, 29 Jul 2023 00:53:25 GMT\n",
      "ETag \"897f2d6c858dcc4de8d43910d931b81a\"\n",
      "Expires Tue, 02 Jul 2024 16:19:39 GMT\n",
      "Cache-Control max-age=3600\n",
      "X-Cache HIT\n",
      "X-Edge-Location sgsg\n",
      "Access-Control-Allow-Origin *\n",
      "Accept-Ranges bytes\n"
     ]
    }
   ],
   "source": [
    "from urllib.request import urlretrieve\n",
    "\n",
    "urlretrieve(\"https://s1.q4cdn.com/806093406/files/doc_downloads/2023/414759-1-_5_Nike-NPS-Combo_Form-10-K_WR.pdf\", \"./example-data/nke-10k-2023.pdf\")\n",
    "\n",
    "path, headers = urlretrieve(\"https://s1.q4cdn.com/806093406/files/doc_downloads/2023/414759-1-_5_Nike-NPS-Combo_Form-10-K_WR.pdf\", \"./example-data/nke-10k-2023.pdf\")\n",
    "for name, value in headers.items():\n",
    "    print(name, value)"
   ]
  },
  {
   "cell_type": "markdown",
   "id": "ca568f5b-849b-41ea-a3fa-260406698c58",
   "metadata": {},
   "source": [
    "Check the file has been successfully downloaded"
   ]
  },
  {
   "cell_type": "code",
   "execution_count": 6,
   "id": "4c49094d-ea5f-4c96-acb2-5da996b158e3",
   "metadata": {
    "tags": []
   },
   "outputs": [
    {
     "data": {
      "text/plain": [
       "['nke-10k-2023.pdf']"
      ]
     },
     "execution_count": 6,
     "metadata": {},
     "output_type": "execute_result"
    }
   ],
   "source": [
    "import os\n",
    "\n",
    "os.listdir(\"./example-data\")"
   ]
  },
  {
   "cell_type": "code",
   "execution_count": 7,
   "id": "c2040787-de89-4210-b1bd-9a3b2e2c1295",
   "metadata": {
    "tags": []
   },
   "outputs": [
    {
     "name": "stdout",
     "output_type": "stream",
     "text": [
      "106\n"
     ]
    }
   ],
   "source": [
    "from langchain_community.document_loaders import PyPDFLoader\n",
    "\n",
    "file_path = \"./example-data/nke-10k-2023.pdf\"\n",
    "loader = PyPDFLoader(file_path)\n",
    "\n",
    "docs = loader.load()\n",
    "\n",
    "print(len(docs))"
   ]
  },
  {
   "cell_type": "markdown",
   "id": "be2361e5-1bca-4c78-8b38-63977038e3d8",
   "metadata": {},
   "source": [
    "__API Reference__: [PyPDFLoader](https://api.python.langchain.com/en/latest/document_loaders/langchain_community.document_loaders.pdf.PyPDFLoader.html)"
   ]
  },
  {
   "cell_type": "code",
   "execution_count": 8,
   "id": "92738c15-2305-4561-b6ce-7015a3be35b5",
   "metadata": {
    "tags": []
   },
   "outputs": [
    {
     "name": "stdout",
     "output_type": "stream",
     "text": [
      "FORM 10-K FORM 10-K\n",
      "{'source': './example-data/nke-10k-2023.pdf', 'page': 0}\n"
     ]
    }
   ],
   "source": [
    "print(docs[0].page_content[0:100])\n",
    "print(docs[0].metadata)"
   ]
  },
  {
   "cell_type": "markdown",
   "id": "06393704-aaa5-4659-b182-5fe4d2469d04",
   "metadata": {},
   "source": [
    "So what just happened?\n",
    "\n",
    "* The loader reads the PDF at the specified path into memory.\n",
    "* It then extracts text data using the pypdf package.\n",
    "* Finally, it creates a [LangChain Document](https://python.langchain.com/v0.2/docs/concepts/#documents) for each page of the PDF with the page's content and some metadata about where in the document the text came from.\n",
    "\n",
    "LangChain has [many other document loaders](https://python.langchain.com/v0.2/docs/integrations/document_loaders/) for other data sources, or you can create a [custom document loader](https://python.langchain.com/v0.2/docs/how_to/document_loader_custom/)."
   ]
  },
  {
   "cell_type": "markdown",
   "id": "dfea3325-c7c7-48d6-9a12-ef35cb09ab4a",
   "metadata": {},
   "source": [
    "## Question answering with RAG\n",
    "Next, you'll prepare the loaded document for later retrieval. Using a [text splitter](https://python.langchain.com/v0.2/docs/concepts/#text-splitters), you'll split your loaded documents into smaller documents which can more easily fit into an LLM's context window, then load them into a [vector store](https://python.langchain.com/v0.2/docs/concepts/#vector-stores). You can then create a [retriever from the vector store](https://python.langchain.com/v0.2/docs/concepts/#retrievers) for use in our RAG chain\n",
    "\n",
    "### Setup\n",
    "Load credentials from a `.env` file and the [python-dotenv package](https://pypi.org/project/python-dotenv/)\n",
    "\n",
    "In this example, we will use the OpenAI `gpt-4o` model"
   ]
  },
  {
   "cell_type": "code",
   "execution_count": 11,
   "id": "2205995f-2949-4987-bb45-b18c1807a5a8",
   "metadata": {
    "tags": []
   },
   "outputs": [],
   "source": [
    "import os\n",
    "from dotenv import load_dotenv\n",
    "\n",
    "load_dotenv()\n",
    "assert os.environ[\"OPENAI_API_KEY\"]\n",
    "\n",
    "from langchain_openai import ChatOpenAI\n",
    "\n",
    "llm = ChatOpenAI(model=\"gpt-4o\")"
   ]
  },
  {
   "cell_type": "markdown",
   "id": "57485029-d4e9-477e-9e46-1651b1ec1823",
   "metadata": {},
   "source": [
    "Now we use `RecursiveCharacterTextSplitter` to split the text into chunks of 1000 characters each with an overlap of 200\n",
    "\n",
    "Then, we load the splits into the `Chroma` in-memory vectorstore\n",
    "\n",
    "Finally, we instantiate vectorstore as a `Retriever`"
   ]
  },
  {
   "cell_type": "code",
   "execution_count": 13,
   "id": "b5dbbc76-2811-4550-bcfa-cdf4bb261057",
   "metadata": {
    "tags": []
   },
   "outputs": [],
   "source": [
    "from langchain_chroma import Chroma\n",
    "from langchain_openai import OpenAIEmbeddings\n",
    "from langchain_text_splitters import RecursiveCharacterTextSplitter\n",
    "\n",
    "text_splitter = RecursiveCharacterTextSplitter(chunk_size=1000, chunk_overlap=200)\n",
    "splits = text_splitter.split_documents(docs)\n",
    "vectorstore = Chroma.from_documents(documents=splits, embedding=OpenAIEmbeddings())\n",
    "\n",
    "retriever = vectorstore.as_retriever()"
   ]
  },
  {
   "cell_type": "markdown",
   "id": "bab4d7b0-d4f7-430f-9a4a-4bfd70533c0a",
   "metadata": {},
   "source": [
    "Finally, you'll use some built-in helpers to construct the final `rag_chain`:"
   ]
  },
  {
   "cell_type": "code",
   "execution_count": 14,
   "id": "8e38960e-3a45-4272-9068-e01654d3aa75",
   "metadata": {
    "tags": []
   },
   "outputs": [
    {
     "data": {
      "text/plain": [
       "{'input': \"What was Nike's revenue in 2023?\",\n",
       " 'context': [Document(page_content='FISCAL 2023 NIKE BRAND REVENUE HIGHLIGHTS\\nThe following tables present NIKE Brand revenues disaggregated by reportable operating segment, distribution channel and \\nmajor product line:\\nFISCAL 2023 COMPARED TO FISCAL 2022\\n•NIKE, Inc. Revenues were $51.2 billion in fiscal 2023, which increased 10% and 16% compared to fiscal 2022 on a reported \\nand currency-neutral basis, respectively. The increase was due to higher revenues in North America, Europe, Middle East & \\nAfrica (\"EMEA\"), APLA and Greater China, which contributed approximately 7, 6, 2 and 1 percentage points to NIKE, Inc. \\nRevenues, respectively. \\n•NIKE Brand revenues, which represented over 90% of NIKE, Inc. Revenues,  increased  10% and 16% on a reported and \\ncurrency-neutral basis, respectively. This increase was primarily due to higher revenues in Men\\'s, the Jordan Brand, \\nWomen\\'s and Kids\\' which grew 17%, 35%,11% and 10%, respectively, on a wholesale equivalent basis.', metadata={'page': 36, 'source': './example-data/nke-10k-2023.pdf'}),\n",
       "  Document(page_content='to-end technology foundation, which we believe will further accelerate our digital transformation. W e believe this unified approach \\nwill accelerate growth and unlock more efficiency for our business, while driving speed and responsiveness as we serve \\nconsumers globally.\\nFINANCIAL HIGHLIGHTS \\n•In fiscal 2023, NIKE, Inc. achieved record Revenues of $51.2 billion, which increased 10% and 16% on a reported and \\ncurrency-neutral basis, respectively \\n•NIKE Direct revenues grew 14% from $18.7 billion in fiscal 2022 to $21.3 billion in fiscal 2023, and represented \\napproximately 44% of total NIKE Brand revenues for fiscal 2023\\n•Gross margin for the fiscal year decreased 250 basis points to 43.5% primarily driven by higher product costs, higher \\nmarkdowns and unfavorable changes in foreign currency exchange rates, partially of fset by strategic pricing actions\\n•Inventories as of May 31, 2023 were $8.5 billion, flat compared to the prior year, driven by the actions we took throughout', metadata={'page': 31, 'source': './example-data/nke-10k-2023.pdf'}),\n",
       "  Document(page_content=\"NORTH AMERICA\\n(Dollars in millions) FISCAL 2023 FISCAL 2022 % CHANGE% CHANGE \\nEXCLUDING \\nCURRENCY \\nCHANGES FISCAL 2021 % CHANGE% CHANGE \\nEXCLUDING \\nCURRENCY \\nCHANGES\\nRevenues by:\\nFootwear $ 14,897 $ 12,228  22 %  22 % $ 11,644  5 %  5 %\\nApparel  5,947  5,492  8 %  9 %  5,028  9 %  9 %\\nEquipment  764  633  21 %  21 %  507  25 %  25 %\\nTOTAL REVENUES $ 21,608 $ 18,353  18 %  18 % $ 17,179  7 %  7 %\\nRevenues by:    \\nSales to Wholesale Customers $ 11,273 $ 9,621  17 %  18 % $ 10,186  -6 %  -6 %\\nSales through NIKE Direct  10,335  8,732  18 %  18 %  6,993  25 %  25 %\\nTOTAL REVENUES $ 21,608 $ 18,353  18 %  18 % $ 17,179  7 %  7 %\\nEARNINGS BEFORE INTEREST \\nAND TAXES $ 5,454 $ 5,114  7 % $ 5,089  0 %\\nFISCAL 2023 COMPARED TO FISCAL 2022\\n•North America revenues increased 18% on a currency-neutral basis, primarily due to higher revenues in Men's and the \\nJordan Brand. NIKE Direct revenues increased 18%, driven by strong digital sales growth of 23%, comparable store sales\", metadata={'page': 40, 'source': './example-data/nke-10k-2023.pdf'}),\n",
       "  Document(page_content=\"EUROPE, MIDDLE EAST & AFRICA\\n(Dollars in millions) FISCAL 2023 FISCAL 2022 % CHANGE% CHANGE \\nEXCLUDING \\nCURRENCY \\nCHANGES FISCAL 2021 % CHANGE% CHANGE \\nEXCLUDING \\nCURRENCY \\nCHANGES\\nRevenues by:\\nFootwear $ 8,260 $ 7,388  12 %  25 % $ 6,970  6 %  9 %\\nApparel  4,566  4,527  1 %  14 %  3,996  13 %  16 %\\nEquipment  592  564  5 %  18 %  490  15 %  17 %\\nTOTAL REVENUES $ 13,418 $ 12,479  8 %  21 % $ 11,456  9 %  12 %\\nRevenues by:    \\nSales to Wholesale Customers $ 8,522 $ 8,377  2 %  15 % $ 7,812  7 %  10 %\\nSales through NIKE Direct  4,896  4,102  19 %  33 %  3,644  13 %  15 %\\nTOTAL REVENUES $ 13,418 $ 12,479  8 %  21 % $ 11,456  9 %  12 %\\nEARNINGS BEFORE INTEREST \\nAND TAXES $ 3,531 $ 3,293  7 % $ 2,435  35 %  \\nFISCAL 2023 COMPARED TO FISCAL 2022  \\n•EMEA revenues increased 21% on a currency-neutral basis, due to higher revenues in Men's, the Jordan Brand, Women's \\nand Kids'. NIKE Direct revenues increased 33%, driven primarily by strong digital sales growth of 43% and comparable store\", metadata={'page': 41, 'source': './example-data/nke-10k-2023.pdf'})],\n",
       " 'answer': \"Nike's revenue in fiscal 2023 was $51.2 billion.\"}"
      ]
     },
     "execution_count": 14,
     "metadata": {},
     "output_type": "execute_result"
    }
   ],
   "source": [
    "from langchain.chains import create_retrieval_chain\n",
    "from langchain.chains.combine_documents import create_stuff_documents_chain\n",
    "from langchain_core.prompts import ChatPromptTemplate\n",
    "\n",
    "system_prompt = (\n",
    "    \"You are an assistant for question-answering tasks. \"\n",
    "    \"Use the following pieces of retrieved context to answer \"\n",
    "    \"the question. If you don't know the answer, say that you \"\n",
    "    \"don't know. Use three sentences maximum and keep the \"\n",
    "    \"answer concise.\"\n",
    "    \"\\n\\n\"\n",
    "    \"{context}\"\n",
    ")\n",
    "\n",
    "prompt = ChatPromptTemplate.from_messages(\n",
    "    [\n",
    "        (\"system\", system_prompt),\n",
    "        (\"human\", \"{input}\"),\n",
    "    ]\n",
    ")\n",
    "\n",
    "\n",
    "question_answer_chain = create_stuff_documents_chain(llm, prompt)\n",
    "rag_chain = create_retrieval_chain(retriever, question_answer_chain)\n",
    "\n",
    "results = rag_chain.invoke({\"input\": \"What was Nike's revenue in 2023?\"})\n",
    "\n",
    "results"
   ]
  },
  {
   "cell_type": "code",
   "execution_count": 15,
   "id": "32f5aa54-81db-4b49-af07-aabe3644a112",
   "metadata": {
    "tags": []
   },
   "outputs": [
    {
     "data": {
      "text/plain": [
       "\"North America contributed the most to Nike's revenue in 2023, with total revenues of $21,608 million.\""
      ]
     },
     "execution_count": 15,
     "metadata": {},
     "output_type": "execute_result"
    }
   ],
   "source": [
    "results = rag_chain.invoke({\"input\": \"Which geography contributed to most to Nike's revenue in 2023?\"})\n",
    "\n",
    "results[\"answer\"]"
   ]
  },
  {
   "cell_type": "markdown",
   "id": "b7fc42b8-fd60-4420-965e-b130a36f9d65",
   "metadata": {},
   "source": [
    "You can see that you get both a final `answer` in the answer key of the results dict, and the `context` the LLM used to generate an answer.\n",
    "\n",
    "Examining the values under the `context` further, you can see that they are documents that each contain a chunk of the ingested page content. Usefully, these documents also preserve the original metadata from way back when you first loaded them:"
   ]
  },
  {
   "cell_type": "code",
   "execution_count": 16,
   "id": "574faa71-a168-47f2-8e76-c4eb95eb03d7",
   "metadata": {
    "tags": []
   },
   "outputs": [
    {
     "name": "stdout",
     "output_type": "stream",
     "text": [
      "NORTH AMERICA\n",
      "(Dollars in millions) FISCAL 2023 FISCAL 2022 % CHANGE% CHANGE \n",
      "EXCLUDING \n",
      "CURRENCY \n",
      "CHANGES FISCAL 2021 % CHANGE% CHANGE \n",
      "EXCLUDING \n",
      "CURRENCY \n",
      "CHANGES\n",
      "Revenues by:\n",
      "Footwear $ 14,897 $ 12,228  22 %  22 % $ 11,644  5 %  5 %\n",
      "Apparel  5,947  5,492  8 %  9 %  5,028  9 %  9 %\n",
      "Equipment  764  633  21 %  21 %  507  25 %  25 %\n",
      "TOTAL REVENUES $ 21,608 $ 18,353  18 %  18 % $ 17,179  7 %  7 %\n",
      "Revenues by:    \n",
      "Sales to Wholesale Customers $ 11,273 $ 9,621  17 %  18 % $ 10,186  -6 %  -6 %\n",
      "Sales through NIKE Direct  10,335  8,732  18 %  18 %  6,993  25 %  25 %\n",
      "TOTAL REVENUES $ 21,608 $ 18,353  18 %  18 % $ 17,179  7 %  7 %\n",
      "EARNINGS BEFORE INTEREST \n",
      "AND TAXES $ 5,454 $ 5,114  7 % $ 5,089  0 %\n",
      "FISCAL 2023 COMPARED TO FISCAL 2022\n",
      "•North America revenues increased 18% on a currency-neutral basis, primarily due to higher revenues in Men's and the \n",
      "Jordan Brand. NIKE Direct revenues increased 18%, driven by strong digital sales growth of 23%, comparable store sales\n"
     ]
    }
   ],
   "source": [
    "print(results[\"context\"][0].page_content)"
   ]
  },
  {
   "cell_type": "code",
   "execution_count": 17,
   "id": "8398662a-8fb9-44c8-be31-52f8b6cde567",
   "metadata": {
    "tags": []
   },
   "outputs": [
    {
     "name": "stdout",
     "output_type": "stream",
     "text": [
      "{'page': 40, 'source': './example-data/nke-10k-2023.pdf'}\n"
     ]
    }
   ],
   "source": [
    "print(results[\"context\"][0].metadata)"
   ]
  },
  {
   "cell_type": "code",
   "execution_count": null,
   "id": "9d62a238-e5e5-4456-866f-29925b50ae6e",
   "metadata": {},
   "outputs": [],
   "source": []
  }
 ],
 "metadata": {
  "kernelspec": {
   "display_name": "Python 3.11 for LLM",
   "language": "python",
   "name": "llm-python-3-11"
  },
  "language_info": {
   "codemirror_mode": {
    "name": "ipython",
    "version": 3
   },
   "file_extension": ".py",
   "mimetype": "text/x-python",
   "name": "python",
   "nbconvert_exporter": "python",
   "pygments_lexer": "ipython3",
   "version": "3.11.8"
  }
 },
 "nbformat": 4,
 "nbformat_minor": 5
}
