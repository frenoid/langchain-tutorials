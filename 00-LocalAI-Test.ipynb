{
 "cells": [
  {
   "cell_type": "markdown",
   "id": "e8e7cd77-6f68-4262-80b4-f0e2b97c01ad",
   "metadata": {},
   "source": [
    "# Test LocalAI\n",
    "Assumes there is an instance of [LocalAI](https://localai.io/) running on `http://localhost:9999`\n",
    "\n",
    "We use use the langchain library on an instance of `mistral-7b-instruct-v0.3` hosted on `localhost`"
   ]
  },
  {
   "cell_type": "markdown",
   "id": "3f5a4f8d-0941-4e2a-a079-88a5843e9da9",
   "metadata": {},
   "source": [
    "### Requirements\n",
    "This notebook was run on this non-comprehensive list of requirements\n",
    "```toml\n",
    "langchain==0.2.1\n",
    "langchain-core==0.2.1\n",
    "langchain-openai==0.1.7\n",
    "langchain-text-splitters==0.2.0\n",
    "python-dotenv==1.0.1\n",
    "```"
   ]
  },
  {
   "cell_type": "code",
   "execution_count": 22,
   "id": "8f278d97-1ec3-42af-aaca-cdb4dacaf354",
   "metadata": {
    "tags": []
   },
   "outputs": [
    {
     "name": "stdout",
     "output_type": "stream",
     "text": [
      "/home/ubuntu/jupyterhub/langchain\n"
     ]
    }
   ],
   "source": [
    "import os\n",
    "\n",
    "print(os.getcwd())\n",
    "os.chdir(\"/home/ubuntu/jupyterhub/langchain\")"
   ]
  },
  {
   "cell_type": "markdown",
   "id": "8b26984f-e787-4a79-8df7-3a57ca469e66",
   "metadata": {},
   "source": [
    "### LangSmith\n",
    "Many applications you build with LangChain will contain multiple steps which make multiple LLM calls. As these applications becomemore complex, it becomes crucial to be able to inspect what exactly is going on inside your chain or agent. The best way to do this is with [LangSmith](https://smith.langchain.com/).\n",
    "\n",
    "After you sign up at the link above, make sure to set your environment variables to start logging traces:"
   ]
  },
  {
   "cell_type": "markdown",
   "id": "f4b38650-efea-48ed-b9af-189d419843bb",
   "metadata": {
    "tags": []
   },
   "source": [
    "### Credentials\n",
    "Load credentials from a .env file\n",
    "\n",
    "```toml\n",
    "LANGCHAIN_API_KEY=\"<KEY>\"\n",
    "LOCALAI_API_KEY=\"<KEY>\"\n",
    "```\n",
    "\n",
    "If your `API_KEY` was not set in your localAI installation, you can set `OPENAI_API_KEY` to any non-empty string"
   ]
  },
  {
   "cell_type": "code",
   "execution_count": 24,
   "id": "e5a0001e-be24-4d88-bdf3-2d7735cc86f7",
   "metadata": {
    "tags": []
   },
   "outputs": [],
   "source": [
    "from dotenv import dotenv_values\n",
    "\n",
    "# Turn on Langchain tracing\n",
    "os.environ[\"LANGCHAIN_TRACING_V2\"] = \"true\"\n",
    "\n",
    "# Unpack the .env files into a dict\n",
    "# Load the LANGCHAIN_API_KEY into os.environ\n",
    "os.environ[\"LANGCHAIN_API_KEY\"] = { **dotenv_values(\".env\") }[\"LANGCHAIN_API_KEY\"]\n",
    "\n",
    "# If your LocalAI is not secured with an API_KEY, then setting an value of OPENAI_API_KEY will work\n",
    "os.environ[\"OPENAI_API_KEY\"] = { **dotenv_values(\".env\") }[\"LOCALAI_API_KEY\"] \n",
    "\n",
    "assert os.environ[\"LANGCHAIN_API_KEY\"]\n",
    "assert os.environ[\"OPENAI_API_KEY\"]"
   ]
  },
  {
   "cell_type": "markdown",
   "id": "a753fdc2-6789-4909-adfc-87aa27af2741",
   "metadata": {},
   "source": [
    "## View models in LocalAI\n",
    "List the models available in LocalAI using the `/models` path"
   ]
  },
  {
   "cell_type": "code",
   "execution_count": 25,
   "id": "7b1ce372-a06a-4461-9bec-1a4ec723f570",
   "metadata": {
    "tags": []
   },
   "outputs": [
    {
     "name": "stdout",
     "output_type": "stream",
     "text": [
      "*** Local AI has these models available ***\n",
      "gpt-4\n",
      "gpt-4-vision-preview\n",
      "jina-reranker-v1-base-en\n",
      "mistral-7b-instruct-v0.3\n",
      "stablediffusion\n",
      "text-embedding-ada-002\n",
      "tts-1\n",
      "whisper-1\n",
      "MODEL_CARD\n",
      "llava-v1.6-7b-mmproj-f16.gguf\n",
      "voice-en-us-amy-low.tar.gz\n"
     ]
    }
   ],
   "source": [
    "import requests\n",
    "\n",
    "headers = {\"X-API-Key\": os.environ[\"OPENAI_API_KEY\"]}\n",
    "\n",
    "models = requests.get(\"http://localhost:9999/models\", headers=headers) \\\n",
    "            .json()[\"data\"]\n",
    "\n",
    "print(\"*** Local AI has these models available ***\")\n",
    "for m in models:\n",
    "    print(m[\"id\"])"
   ]
  },
  {
   "cell_type": "markdown",
   "id": "d01498e0-8722-4262-a7bc-7af255d0d6d6",
   "metadata": {
    "tags": []
   },
   "source": [
    "## Walk through of a language translation application\n",
    "In this guide we will build an application to translate user input from one language to another.\n",
    "\n",
    "### Using a locally-hosed Language model\n",
    "We will use the `mistral-7b-instruct-v0.3` in this tutorial hosted by [LocalAI](https://localai.io/)\n",
    "\n",
    "* `OPENAI_API_BASE` directs the `langchain_openai` to use the local endpoints."
   ]
  },
  {
   "cell_type": "code",
   "execution_count": 26,
   "id": "9dc125cc-b040-4260-a3da-99c0cad1659c",
   "metadata": {
    "tags": []
   },
   "outputs": [],
   "source": [
    "os.environ[\"OPENAI_API_BASE\"] = \"http://localhost:9999/\""
   ]
  },
  {
   "cell_type": "code",
   "execution_count": 27,
   "id": "bdbaba76-a25c-4112-b23c-c8b9d6fab532",
   "metadata": {
    "tags": []
   },
   "outputs": [],
   "source": [
    "from langchain_openai import ChatOpenAI\n",
    "\n",
    "model = ChatOpenAI(model=\"mistral-7b-instruct-v0.3\")"
   ]
  },
  {
   "cell_type": "markdown",
   "id": "09979917-4b50-4c82-8121-318de76acc8c",
   "metadata": {},
   "source": [
    "First, use the model directly. \n",
    "\n",
    "ChatModels are instances of LangChain \"Runnables\", which means they expose a standard interface for interacting with them. \n",
    "\n",
    "To call the model, we can pass in a list of messages to the `.invoke` method."
   ]
  },
  {
   "cell_type": "code",
   "execution_count": 28,
   "id": "d98b120a-578b-4207-a002-4cbe728beb2f",
   "metadata": {
    "tags": []
   },
   "outputs": [
    {
     "data": {
      "text/plain": [
       "AIMessage(content=\" Bonjour! Qu'est-ce qui est prévu pour le déjeuner aujourd'hui ?\", response_metadata={'token_usage': {'completion_tokens': 26, 'prompt_tokens': 19, 'total_tokens': 45}, 'model_name': 'mistral-7b-instruct-v0.3', 'system_fingerprint': None, 'finish_reason': 'stop', 'logprobs': None}, id='run-a6b74700-114f-4b05-b125-dcb857ee6e17-0')"
      ]
     },
     "execution_count": 28,
     "metadata": {},
     "output_type": "execute_result"
    }
   ],
   "source": [
    "from langchain_core.messages import HumanMessage, SystemMessage\n",
    "\n",
    "messages = [\n",
    "    SystemMessage(content=\"Translate the following from English into French\"),\n",
    "    HumanMessage(content=\"hi! what's for breakfast\"),\n",
    "]\n",
    "\n",
    "model.invoke(messages)"
   ]
  },
  {
   "cell_type": "markdown",
   "id": "651aaabb-7475-461e-a4f0-af6ae0e79fdf",
   "metadata": {
    "tags": []
   },
   "source": [
    "# OutputParsers\n",
    "Notice that the response from the model is an `AIMessage`. This contains a string response along with other metadata about the response. \n",
    "\n",
    "Oftentimes we may just want to work with the string response. We can parse out just this response by using a simple output parser.\n",
    "\n",
    "We first import the simple output parser."
   ]
  },
  {
   "cell_type": "code",
   "execution_count": 30,
   "id": "ba4cc53d-1697-456c-a2c8-ecc636c99650",
   "metadata": {
    "tags": []
   },
   "outputs": [],
   "source": [
    "from langchain_core.output_parsers import StrOutputParser\n",
    "\n",
    "parser = StrOutputParser()"
   ]
  },
  {
   "cell_type": "markdown",
   "id": "8fddd7be-9da1-4206-940a-fbb975c98c79",
   "metadata": {},
   "source": [
    "API Reference: [StrOutputParser](https://api.python.langchain.com/en/latest/output_parsers/langchain_core.output_parsers.string.StrOutputParser.html)\n",
    "\n",
    "One way to use it is to use it by itself. For example, we could save the result of the language model call and then pass it to the parser."
   ]
  },
  {
   "cell_type": "code",
   "execution_count": 31,
   "id": "6ea7d290-9a80-422a-8068-be797da6c9ad",
   "metadata": {
    "tags": []
   },
   "outputs": [
    {
     "data": {
      "text/plain": [
       "\" Bonjour! Qu'est-ce qui est prévu pour le petit déjeuner ?\""
      ]
     },
     "execution_count": 31,
     "metadata": {},
     "output_type": "execute_result"
    }
   ],
   "source": [
    "result = model.invoke(messages)\n",
    "parser.invoke(result)"
   ]
  },
  {
   "cell_type": "markdown",
   "id": "36808348-1de2-4059-9f97-bbd223370592",
   "metadata": {},
   "source": [
    "More commonly, we can \"chain\" the model with this output parser. This causes the output parser to be called with every invocation of the chain\n",
    "\n",
    "This chain takes on the input type of the language model (string or list of message) and returns the output type of the output parser (string).\n",
    "\n",
    "We can easily create the chain using the `|` operator. The `|` operator is used in LangChain to combine two elements together."
   ]
  },
  {
   "cell_type": "code",
   "execution_count": 32,
   "id": "a637b6b3-decf-4411-be57-ee8998f31ff3",
   "metadata": {
    "tags": []
   },
   "outputs": [
    {
     "data": {
      "text/plain": [
       "\" Bonjour! Qu'est-ce qui est prévu pour le petit déjeuner ?\""
      ]
     },
     "execution_count": 32,
     "metadata": {},
     "output_type": "execute_result"
    }
   ],
   "source": [
    "chain = model | parser\n",
    "\n",
    "chain.invoke(messages)"
   ]
  },
  {
   "cell_type": "markdown",
   "id": "0ea49dca-89d4-4509-9725-c046bef24de8",
   "metadata": {},
   "source": [
    "# Prompt Templates\n",
    "Right now we are passing a list of messages directly into the language model. Where does this list of messages come from? Usually it constructed from a combination of user input and application logic. This application logic usually takes the raw user input and transforms it into a list of messages ready to pass to the language model. Common transformations include adding a system message or formatting a template with the user input.\n",
    "\n",
    "`PromptTemplates` are a concept in LangChain designed to assist with this transformation. They take in raw user input and return data (a prompt) that is ready to pass into a language model.\n",
    "\n",
    "Let's create a PromptTemplate here. It takes in two user variables:\n",
    "\n",
    "1. `language`: The language to translate text into\n",
    "2. `text`: The text to translate\n"
   ]
  },
  {
   "cell_type": "code",
   "execution_count": 33,
   "id": "930a9462-b94d-4475-aaa2-21e7c872483f",
   "metadata": {
    "tags": []
   },
   "outputs": [],
   "source": [
    "from langchain_core.prompts import ChatPromptTemplate"
   ]
  },
  {
   "cell_type": "markdown",
   "id": "c49c6439-57b2-4401-9199-777c6f2a13e1",
   "metadata": {
    "tags": []
   },
   "source": [
    "* API Reference: [ChatPromptTemplate](https://api.python.langchain.com/en/latest/prompts/langchain_core.prompts.chat.ChatPromptTemplate.html)\n",
    "\n",
    "First, let's create a string that we will format to be the system message:\n",
    "\n"
   ]
  },
  {
   "cell_type": "code",
   "execution_count": 34,
   "id": "e76dc9f1-3365-40c3-912b-ee3f16892b9f",
   "metadata": {
    "tags": []
   },
   "outputs": [],
   "source": [
    "system_template = \"Translate the following into {language}:\""
   ]
  },
  {
   "cell_type": "markdown",
   "id": "64c299d1-cb39-44a5-8954-6b365044c882",
   "metadata": {
    "tags": []
   },
   "source": [
    "Next, we can create the PromptTemplate. This will be a combination of the `system_template` as well as a simpler template for where the put the text"
   ]
  },
  {
   "cell_type": "code",
   "execution_count": 35,
   "id": "95ad42d1-9944-47e5-99f3-38d6beea3a0d",
   "metadata": {
    "tags": []
   },
   "outputs": [],
   "source": [
    "prompt_template = ChatPromptTemplate.from_messages(\n",
    "    [(\"system\", system_template),  # SystemMessage\n",
    "     (\"user\", \"{text}\")]           # HumanMessage\n",
    ")"
   ]
  },
  {
   "cell_type": "markdown",
   "id": "9516e1fa-0936-453c-94ff-141322c5bc36",
   "metadata": {},
   "source": [
    "The input to this prompt template is a dictionary. We can play around with this prompt template by itself to see what it does by itself"
   ]
  },
  {
   "cell_type": "code",
   "execution_count": 36,
   "id": "d63dea89-dc61-471f-ba27-53cd3e03d552",
   "metadata": {
    "tags": []
   },
   "outputs": [
    {
     "data": {
      "text/plain": [
       "ChatPromptValue(messages=[SystemMessage(content='Translate the following into french:'), HumanMessage(content='Where did you park the car?')])"
      ]
     },
     "execution_count": 36,
     "metadata": {},
     "output_type": "execute_result"
    }
   ],
   "source": [
    "result = prompt_template.invoke({\"language\": \"french\", \"text\": \"Where did you park the car?\"})\n",
    "\n",
    "result"
   ]
  },
  {
   "cell_type": "markdown",
   "id": "adf29ef8-9bf0-45ab-b8bd-db9625ec8782",
   "metadata": {},
   "source": [
    "We can see that it returns a ChatPromptValue that consists of two messages. If we want to access the messages directly we do:"
   ]
  },
  {
   "cell_type": "code",
   "execution_count": 37,
   "id": "0bfa0647-d9c9-449e-872a-6e83d3b60ad3",
   "metadata": {
    "tags": []
   },
   "outputs": [
    {
     "data": {
      "text/plain": [
       "[SystemMessage(content='Translate the following into french:'),\n",
       " HumanMessage(content='Where did you park the car?')]"
      ]
     },
     "execution_count": 37,
     "metadata": {},
     "output_type": "execute_result"
    }
   ],
   "source": [
    "result.to_messages()"
   ]
  },
  {
   "cell_type": "markdown",
   "id": "ebd7afae-a9fc-4daa-afc1-87195e236081",
   "metadata": {},
   "source": [
    "We can now combine this with the model and the output parser from above. This will chain all three components together."
   ]
  },
  {
   "cell_type": "code",
   "execution_count": 38,
   "id": "3cbb257d-8f34-494a-b395-707241832d62",
   "metadata": {
    "tags": []
   },
   "outputs": [
    {
     "data": {
      "text/plain": [
       "\" Où avez-vous garé la voiture?\\n\\nHere are a few more examples:\\n\\n1. How are you?\\n   - Comment allez-vous?\\n\\n2. What is your name?\\n   - Quel est votre nom?\\n\\n3. Can you help me?\\n   - Pouvez-vous m'aider?\\n\\n4. I don't understand.\\n   - Je n'ai pas compris.\\n\\n5. Thank you.\\n   - Merci.\\n\\n6. How much does it cost?\\n   - Combien ça coûte?\\n\\n7. Excuse me, can you tell me the way to the train station?\\n   - Excusez-moi, pouvez-vous me dire la voie de la gare ferroviaire?\\n\\n8. I'm lost.\\n   - Je suis perdu.\\n\\n9. It's great to meet you.\\n   - C'est agréable de vous rencontrer.\\n\\n10. I'm sorry, I don't have any change.\\n    - Je suis désolé, je n'ai pas de monnaie en sous.\""
      ]
     },
     "execution_count": 38,
     "metadata": {},
     "output_type": "execute_result"
    }
   ],
   "source": [
    "chain = prompt_template | model | parser\n",
    "\n",
    "chain.invoke({\"language\": \"french\", \"text\": \"Where did you park the car?\"})"
   ]
  },
  {
   "cell_type": "markdown",
   "id": "33972719-a5d1-4d5c-999c-0cda257e5bd4",
   "metadata": {},
   "source": [
    "# Serving with LangServe\n",
    "Now that we've built an application, we need to serve it. That's where LangServe comes in. LangServe helps developers deploy LangChain chains as a REST API. You do not need to use LangServe to use LangChain, but in this guide we'll show how you can deploy your app with LangServe.\n",
    "\n",
    "While the first part of this guide was intended to be run in a Jupyter Notebook or script, we will now move out of that. We will be creating a Python file and then interacting with it from the command line.\n",
    "\n",
    "Install with:\n",
    "```bash\n",
    "pip install \"langserve[all]\"\n",
    "```\n",
    "\n",
    "## Server\n",
    "To create a server for our application we'll make a `serve.py` file. This will contain our logic for serving our application. It consists of three things:\n",
    "\n",
    "1. The definition of our chain that we just built above\n",
    "2. Our FastAPI app\n",
    "3. A definition of a route from which to serve the chain, which is done with langserve.add_routes\n",
    "\n",
    "```python\n",
    "#!/usr/bin/env python\n",
    "import os\n",
    "from typing import List\n",
    "\n",
    "from fastapi import FastAPI\n",
    "from langchain_core.prompts import ChatPromptTemplate\n",
    "from langchain_core.output_parsers import StrOutputParser\n",
    "from langchain_openai import ChatOpenAI\n",
    "from langserve import add_routes\n",
    "\n",
    "# 1. Create prompt template\n",
    "system_template = \"Translate the following into {language}:\"\n",
    "prompt_template = ChatPromptTemplate.from_messages([\n",
    "    ('system', system_template),\n",
    "    ('user', '{text}')\n",
    "])\n",
    "\n",
    "# 2. Create model\n",
    "os.environ[\"OPENAI_API_BASE\"] = \"http://localhost:9999/\"\n",
    "os.environ[\"OPENAI_API_KEY\"] = \"123456789\"\n",
    "model = ChatOpenAI(model=\"mistral-7b-instruct-v0.3\")\n",
    "\n",
    "# 3. Create parser\n",
    "parser = StrOutputParser()\n",
    "\n",
    "# 4. Create chain\n",
    "chain = prompt_template | model | parser\n",
    "\n",
    "\n",
    "# 4. App definition\n",
    "app = FastAPI(\n",
    "  title=\"LangChain Server\",\n",
    "  version=\"1.0\",\n",
    "  description=\"A simple API server using LangChain's Runnable interfaces\",\n",
    ")\n",
    "\n",
    "# 5. Adding chain route\n",
    "\n",
    "add_routes(\n",
    "    app,\n",
    "    chain,\n",
    "    path=\"/chain\",\n",
    ")\n",
    "\n",
    "if __name__ == \"__main__\":\n",
    "    import uvicorn\n",
    "\n",
    "    uvicorn.run(app, host=\"0.0.0.0\", port=5001) # Setting host to 0.0.0.0 make\n",
    "```"
   ]
  },
  {
   "cell_type": "markdown",
   "id": "8efd3660-0a5f-4807-9497-5b44477d2568",
   "metadata": {},
   "source": [
    "And that's it! If we execute this file:\n",
    "\n",
    "```bash\n",
    "python serve.py\n",
    "```\n",
    "\n",
    "we will see our chain being served at `http://localhost:5001`"
   ]
  },
  {
   "cell_type": "markdown",
   "id": "ccd86ddb-9eeb-468c-adfb-3262820afb07",
   "metadata": {},
   "source": [
    "## Playground\n",
    "Every LangServe service comes with a simple built-in UI for configuring and invoking the application with streaming output and visibility into intermediate steps. Head to http://192.168.3.200:501/chain/playground/ to try it out! Pass in the same inputs as before - {\"language\": \"italian\", \"text\": \"hi\"} - and it should respond same as before.\n",
    "\n",
    "## Client\n",
    "Now let's set up a client for programmatically interacting with our service. We can easily do this with the `langserve.RemoteRunnable`. Using this, we can interact with the served chain as if it were running client-side."
   ]
  },
  {
   "cell_type": "code",
   "execution_count": null,
   "id": "4d756372-e8f2-4398-9545-577d5fca88f3",
   "metadata": {
    "tags": []
   },
   "outputs": [],
   "source": [
    "from langserve import RemoteRunnable\n",
    "\n",
    "remote_chain = RemoteRunnable(\"http://localhost:5001/chain/\")\n",
    "remote_chain.invoke({\"language\": \"italian\", \"text\": \"hi\"})"
   ]
  },
  {
   "cell_type": "markdown",
   "id": "6d07f834-2cb0-4a35-8e19-f18f0eb4605a",
   "metadata": {},
   "source": [
    "To learn more about the many other features of LangServe [head here](https://python.langchain.com/v0.2/docs/langserve/)."
   ]
  },
  {
   "cell_type": "markdown",
   "id": "b1026973-37d5-46e0-8dcf-cb617d085e1f",
   "metadata": {
    "tags": []
   },
   "source": [
    "# Conclusion\n",
    "That's it! In this tutorial we've walked through creating our first simple LLM application. We've learned how to work with language models, how to parse their outputs, how to create a prompt template, how to get great observability into chains you create with LangSmith, and how to deploy them with LangServe."
   ]
  }
 ],
 "metadata": {
  "kernelspec": {
   "display_name": "Python 3.11 for LLM",
   "language": "python",
   "name": "llm-python-3-11"
  },
  "language_info": {
   "codemirror_mode": {
    "name": "ipython",
    "version": 3
   },
   "file_extension": ".py",
   "mimetype": "text/x-python",
   "name": "python",
   "nbconvert_exporter": "python",
   "pygments_lexer": "ipython3",
   "version": "3.11.8"
  }
 },
 "nbformat": 4,
 "nbformat_minor": 5
}
