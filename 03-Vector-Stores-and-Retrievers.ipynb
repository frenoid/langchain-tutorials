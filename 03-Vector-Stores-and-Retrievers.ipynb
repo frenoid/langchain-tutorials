{
 "cells": [
  {
   "cell_type": "markdown",
   "id": "3c4d7f51-7493-4377-b5f7-180cb0460606",
   "metadata": {},
   "source": [
    "# Vector stores and retrievers\n",
    "Adapted from [Vector stores and retrievers](https://python.langchain.com/v0.2/docs/tutorials/retrievers/)\n",
    "\n",
    "This tutorial will familiarize you with LangChain's vector store and retriever abstractions. These abstractions are designed to support retrieval of data-- from (vector) databases and other sources-- for integration with LLM workflows. They are important for applications that fetch data to be reasoned over as part of model inference, as in the case of retrieval-augmented generation, or RAG (see our RAG tutorial [here](https://python.langchain.com/v0.2/docs/tutorials/rag/))."
   ]
  },
  {
   "cell_type": "markdown",
   "id": "1d95f610-184e-4953-8ce9-19f378253ebb",
   "metadata": {},
   "source": [
    "## Concepts\n",
    "This guide focuses on retrieval of text data. We will cover the following concepts:\n",
    "\n",
    "* Documents\n",
    "* Vector stores\n",
    "* Retrievers\n",
    "\n",
    "### Installation\n",
    "This tutorial requires the `langchain`, `langchain-chroma`, and `langchain-openai` packages:\n",
    "\n",
    "```bash\n",
    "pip install langchain langchain-chroma langchain-openai\n",
    "```"
   ]
  },
  {
   "cell_type": "markdown",
   "id": "03848e40-47bf-4d9e-bfcc-b8c1eca632a3",
   "metadata": {},
   "source": [
    "## Credentials and Langchain\n",
    "Load credentials from a .env file and the [python-dotenv package](https://pypi.org/project/python-dotenv/)\n",
    "\n",
    "```toml\n",
    "LANGCHAIN_API_KEY=\"<KEY>\"\n",
    "OPENAI_API_KEY=\"<KEY>\"\n",
    "```\n",
    "\n",
    "Many of the applications you build with LangChain will contain multiple steps with multiple invocations of LLM calls. As these applications get more and more complex, it becomes crucial to be able to inspect what exactly is going on inside your chain or agent. The best way to do this is with [LangSmith](https://smith.langchain.com/).\n",
    "\n",
    "After you sign up at the link above, make sure to set your environment variables to start logging traces:\n",
    "```bash\n",
    "export LANGCHAIN_TRACING_V2=\"true\"\n",
    "export LANGCHAIN_API_KEY=\"...\"\n",
    "```"
   ]
  },
  {
   "cell_type": "code",
   "execution_count": 3,
   "id": "7490e3c5-6b6a-4a35-8fd4-a06b8a6e6a09",
   "metadata": {
    "tags": []
   },
   "outputs": [],
   "source": [
    "import os\n",
    "from dotenv import load_dotenv\n",
    "\n",
    "os.environ[\"LANGCHAIN_TRACING_V2\"] = \"true\"\n",
    "\n",
    "load_dotenv()\n",
    "assert os.environ[\"LANGCHAIN_API_KEY\"]\n",
    "assert os.environ[\"OPENAI_API_KEY\"]"
   ]
  },
  {
   "cell_type": "markdown",
   "id": "ef53b206-39b2-455e-bb2f-a8106c7601a3",
   "metadata": {},
   "source": [
    "## Documents\n",
    "LangChain implements a [Document](https://api.python.langchain.com/en/latest/documents/langchain_core.documents.base.Document.html) abstraction, which is intended to represent a unit of text and associated metadata. It has two attributes:\n",
    "\n",
    "* `page_content`: a string representing the content;\n",
    "* `metadata`: a dict containing arbitrary metadata.\n",
    "The `metadata` attribute can capture information about the source of the document, its relationship to other documents, and other information. Note that an individual `Document` object often represents a chunk of a larger document.\n",
    "\n",
    "Let's generate some sample documents:"
   ]
  },
  {
   "cell_type": "code",
   "execution_count": 4,
   "id": "14e34c72-2284-4a23-8d17-800d85b8ccf4",
   "metadata": {
    "tags": []
   },
   "outputs": [],
   "source": [
    "from langchain_core.documents import Document\n",
    "\n",
    "documents = [\n",
    "    Document(\n",
    "        page_content=\"Dogs are great companions, known for their loyalty and friendliness.\",\n",
    "        metadata={\"source\": \"mammal-pets-doc\"},\n",
    "    ),\n",
    "    Document(\n",
    "        page_content=\"Cats are independent pets that often enjoy their own space.\",\n",
    "        metadata={\"source\": \"mammal-pets-doc\"},\n",
    "    ),\n",
    "    Document(\n",
    "        page_content=\"Goldfish are popular pets for beginners, requiring relatively simple care.\",\n",
    "        metadata={\"source\": \"fish-pets-doc\"},\n",
    "    ),\n",
    "    Document(\n",
    "        page_content=\"Parrots are intelligent birds capable of mimicking human speech.\",\n",
    "        metadata={\"source\": \"bird-pets-doc\"},\n",
    "    ),\n",
    "    Document(\n",
    "        page_content=\"Rabbits are social animals that need plenty of space to hop around.\",\n",
    "        metadata={\"source\": \"mammal-pets-doc\"},\n",
    "    ),\n",
    "]"
   ]
  },
  {
   "cell_type": "markdown",
   "id": "272ec900-a0e4-4642-99d7-408f3fd183ee",
   "metadata": {},
   "source": [
    "* API Reference: [Document](https://python.langchain.com/v0.2/docs/tutorials/retrievers/#langsmith:~:text=API%20Reference%3A,three%20distinct%20%22sources%22.)\n",
    "\n",
    "Here we've generated five documents, containing metadata indicating three distinct \"sources\"."
   ]
  },
  {
   "cell_type": "markdown",
   "id": "9f43e5e2-cdec-4cf9-b583-5d8406dbe946",
   "metadata": {},
   "source": [
    "## Vector stores\n",
    "Vector search is a common way to store and search over unstructured data (such as unstructured text). The idea is to store numeric vectors that are associated with the text. Given a query, we can embed it as a vector of the same dimension and use vector similarity metrics to identify related data in the store.\n",
    "\n",
    "LangChain [VectorStore](https://api.python.langchain.com/en/latest/vectorstores/langchain_core.vectorstores.VectorStore.html) objects contain methods for adding text and Document objects to the store, and querying them using various similarity metrics. They are often initialized with [embedding models](https://python.langchain.com/v0.2/docs/how_to/embed_text/), which determine how text data is translated to numeric vectors.\n",
    "\n",
    "LangChain includes a [suite of integrations](https://python.langchain.com/v0.2/docs/integrations/vectorstores/) with different vector store technologies. Some vector stores are hosted by a provider (e.g., various cloud providers) and require specific credentials to use; some (such as Postgres) run in separate infrastructure that can be run locally or via a third-party; others can run in-memory for lightweight workloads. Here we will demonstrate usage of LangChain VectorStores using Chroma, which includes an in-memory implementation.\n",
    "\n",
    "To instantiate a vector store, we often need to provide an embedding model to specify how text should be converted into a numeric vector. Here we will use [OpenAI embeddings](https://python.langchain.com/v0.2/docs/integrations/text_embedding/openai/)."
   ]
  },
  {
   "cell_type": "code",
   "execution_count": 6,
   "id": "2b4b9503-78ad-444b-a538-4629b03a3cf7",
   "metadata": {
    "tags": []
   },
   "outputs": [],
   "source": [
    "from langchain_chroma import Chroma\n",
    "from langchain_openai import OpenAIEmbeddings\n",
    "\n",
    "# Create a vectorstore and and add documents\n",
    "vectorstore = Chroma.from_documents(\n",
    "    documents,                      # List of documents created earlier\n",
    "    embedding=OpenAIEmbeddings(),   # Use the OpenAI embeddings\n",
    ")"
   ]
  },
  {
   "cell_type": "markdown",
   "id": "f3a1b103-1e74-4536-815f-0373ad60e296",
   "metadata": {},
   "source": [
    "* API Reference: [OpenAIEmbeddings](https://api.python.langchain.com/en/latest/embeddings/langchain_openai.embeddings.base.OpenAIEmbeddings.html)\n",
    "\n",
    "Calling `.from_documents` here will add the documents to the vector store. VectorStore implements methods for adding documents that can also be called after the object is instantiated. Most implementations will allow you to connect to an existing vector store-- e.g., by providing a client, index name, or other information. See the documentation for a specific integration for more detail.\n",
    "\n",
    "Once we've instantiated a `VectorStore` that contains documents, we can query it. VectorStore includes methods for querying:\n",
    "\n",
    "* Synchronously and asynchronously;\n",
    "* By string query and by vector;\n",
    "* With and without returning similarity scores;\n",
    "* By similarity and [maximum marginal relevance](https://api.python.langchain.com/en/latest/vectorstores/langchain_core.vectorstores.VectorStore.html#langchain_core.vectorstores.VectorStore.max_marginal_relevance_search) (to balance similarity with query to diversity in retrieved results).\n",
    "\n",
    "The methods will generally include a list of Document objects in their outputs.\n",
    "\n",
    "### Examples\n",
    "Return documents based on similarity to a string query:\n",
    "\n"
   ]
  },
  {
   "cell_type": "code",
   "execution_count": 7,
   "id": "9c864484-8946-4ab3-8ca4-f5d968b1318c",
   "metadata": {
    "tags": []
   },
   "outputs": [
    {
     "data": {
      "text/plain": [
       "[Document(page_content='Cats are independent pets that often enjoy their own space.', metadata={'source': 'mammal-pets-doc'}),\n",
       " Document(page_content='Dogs are great companions, known for their loyalty and friendliness.', metadata={'source': 'mammal-pets-doc'}),\n",
       " Document(page_content='Rabbits are social animals that need plenty of space to hop around.', metadata={'source': 'mammal-pets-doc'}),\n",
       " Document(page_content='Parrots are intelligent birds capable of mimicking human speech.', metadata={'source': 'bird-pets-doc'})]"
      ]
     },
     "execution_count": 7,
     "metadata": {},
     "output_type": "execute_result"
    }
   ],
   "source": [
    "vectorstore.similarity_search(\"cat\")"
   ]
  },
  {
   "cell_type": "markdown",
   "id": "84f83fd0-ed26-47ec-a5b0-7766e6d4bafc",
   "metadata": {},
   "source": [
    "Async query:"
   ]
  },
  {
   "cell_type": "code",
   "execution_count": 8,
   "id": "de46f481-7882-43e5-bf5c-191e2664f497",
   "metadata": {
    "tags": []
   },
   "outputs": [
    {
     "data": {
      "text/plain": [
       "[Document(page_content='Cats are independent pets that often enjoy their own space.', metadata={'source': 'mammal-pets-doc'}),\n",
       " Document(page_content='Dogs are great companions, known for their loyalty and friendliness.', metadata={'source': 'mammal-pets-doc'}),\n",
       " Document(page_content='Rabbits are social animals that need plenty of space to hop around.', metadata={'source': 'mammal-pets-doc'}),\n",
       " Document(page_content='Parrots are intelligent birds capable of mimicking human speech.', metadata={'source': 'bird-pets-doc'})]"
      ]
     },
     "execution_count": 8,
     "metadata": {},
     "output_type": "execute_result"
    }
   ],
   "source": [
    "await vectorstore.asimilarity_search(\"cat\")"
   ]
  },
  {
   "cell_type": "markdown",
   "id": "540dd1de-968f-4ad9-84d5-b9c97df06fc2",
   "metadata": {},
   "source": [
    "Return scores:"
   ]
  },
  {
   "cell_type": "code",
   "execution_count": 9,
   "id": "3510889a-1ae3-479e-b6d2-5e096af4b0cd",
   "metadata": {
    "tags": []
   },
   "outputs": [
    {
     "data": {
      "text/plain": [
       "[(Document(page_content='Cats are independent pets that often enjoy their own space.', metadata={'source': 'mammal-pets-doc'}),\n",
       "  0.37532690167427063),\n",
       " (Document(page_content='Dogs are great companions, known for their loyalty and friendliness.', metadata={'source': 'mammal-pets-doc'}),\n",
       "  0.4833090305328369),\n",
       " (Document(page_content='Rabbits are social animals that need plenty of space to hop around.', metadata={'source': 'mammal-pets-doc'}),\n",
       "  0.4958883225917816),\n",
       " (Document(page_content='Parrots are intelligent birds capable of mimicking human speech.', metadata={'source': 'bird-pets-doc'}),\n",
       "  0.4974174499511719)]"
      ]
     },
     "execution_count": 9,
     "metadata": {},
     "output_type": "execute_result"
    }
   ],
   "source": [
    "# Note that providers implement different scores; Chroma here\n",
    "# returns a distance metric that should vary inversely with\n",
    "# similarity.\n",
    "\n",
    "vectorstore.similarity_search_with_score(\"cat\")"
   ]
  },
  {
   "cell_type": "markdown",
   "id": "266c64fb-461a-4bd5-a568-55c9662fcad2",
   "metadata": {},
   "source": [
    "Return documents based on similarity to a embedded query:"
   ]
  },
  {
   "cell_type": "code",
   "execution_count": 16,
   "id": "6e035196-4337-45f9-bea9-7599fbd6ef5d",
   "metadata": {
    "tags": []
   },
   "outputs": [
    {
     "name": "stdout",
     "output_type": "stream",
     "text": [
      "First 5 embeddings: [-0.007064840399927003, -0.017335813760570657, -0.009703516178850385, -0.03069942864557231, -0.012505334995320574]\n"
     ]
    },
    {
     "data": {
      "text/plain": [
       "[Document(page_content='Cats are independent pets that often enjoy their own space.', metadata={'source': 'mammal-pets-doc'}),\n",
       " Document(page_content='Dogs are great companions, known for their loyalty and friendliness.', metadata={'source': 'mammal-pets-doc'}),\n",
       " Document(page_content='Rabbits are social animals that need plenty of space to hop around.', metadata={'source': 'mammal-pets-doc'}),\n",
       " Document(page_content='Parrots are intelligent birds capable of mimicking human speech.', metadata={'source': 'bird-pets-doc'})]"
      ]
     },
     "execution_count": 16,
     "metadata": {},
     "output_type": "execute_result"
    }
   ],
   "source": [
    "embedding = OpenAIEmbeddings().embed_query(\"cat\")\n",
    "\n",
    "# An embedding is a list or matrix of floating point numbers readily readable by an LLM\n",
    "print(f\"First 5 embeddings: {embedding[0:5]}\")\n",
    "\n",
    "vectorstore.similarity_search_by_vector(embedding)"
   ]
  },
  {
   "cell_type": "markdown",
   "id": "0d0d7d0b-52cf-41ad-ad43-a57f93edfb5d",
   "metadata": {},
   "source": [
    "Learn more:\n",
    "\n",
    "* [API reference](https://api.python.langchain.com/en/latest/vectorstores/langchain_core.vectorstores.VectorStore.html)\n",
    "* [How-to guide](https://python.langchain.com/v0.2/docs/how_to/vectorstores/)\n",
    "* [Integration-specific docs](https://python.langchain.com/v0.2/docs/integrations/vectorstores/)\n",
    "\n",
    "## Retrievers\n",
    "LangChain `VectorStore` objects do not subclass Runnable, and so cannot immediately be integrated into LangChain Expression Language chains.\n",
    "\n",
    "LangChain Retrievers are Runnables, so they implement a standard set of methods (e.g., synchronous and asynchronous `invoke` and `batch` operations) and are designed to be incorporated in LCEL chains.\n",
    "\n",
    "We can create a simple version of this ourselves, without subclassing `Retriever`. If we choose what method we wish to use to retrieve documents, we can create a runnable easily. Below we will build one around the `similarity_search` method:"
   ]
  },
  {
   "cell_type": "code",
   "execution_count": 19,
   "id": "85c7d09d-2e6f-4d1f-9fd2-5e00102a7301",
   "metadata": {
    "tags": []
   },
   "outputs": [
    {
     "data": {
      "text/plain": [
       "[[Document(page_content='Cats are independent pets that often enjoy their own space.', metadata={'source': 'mammal-pets-doc'})],\n",
       " [Document(page_content='Goldfish are popular pets for beginners, requiring relatively simple care.', metadata={'source': 'fish-pets-doc'})]]"
      ]
     },
     "execution_count": 19,
     "metadata": {},
     "output_type": "execute_result"
    }
   ],
   "source": [
    "from typing import List\n",
    "\n",
    "from langchain_core.documents import Document\n",
    "from langchain_core.runnables import RunnableLambda\n",
    "\n",
    "# Create a Runnable by passing the .similarity_search method of vectorstore in\n",
    "# Pick the top result, by passing in param k=1\n",
    "retriever = RunnableLambda(vectorstore.similarity_search) \\\n",
    "            .bind(k=1)  # select top result\n",
    "\n",
    "# Send in 2 queries, first cat the shark\n",
    "retriever.batch([\"cat\", \"shark\"])"
   ]
  },
  {
   "cell_type": "markdown",
   "id": "d5162d9f-5239-4a3b-a452-679f971cb1e8",
   "metadata": {},
   "source": [
    "* API Reference: [Document](https://api.python.langchain.com/en/latest/documents/langchain_core.documents.base.Document.html) | [RunnableLambda](https://api.python.langchain.com/en/latest/runnables/langchain_core.runnables.base.RunnableLambda.html)\n",
    "\n",
    "Vectorstores implement an `as_retriever` method that will generate a Retriever, specifically a [VectorStoreRetriever](https://api.python.langchain.com/en/latest/vectorstores/langchain_core.vectorstores.VectorStoreRetriever.html). These retrievers include specific `search_type` and `search_kwargs` attributes that identify what methods of the underlying vector store to call, and how to parameterize them. For instance, we can replicate the above with the following:"
   ]
  },
  {
   "cell_type": "code",
   "execution_count": 20,
   "id": "74cc7361-5b21-41bc-b5d9-3e8b4f16515b",
   "metadata": {
    "tags": []
   },
   "outputs": [
    {
     "data": {
      "text/plain": [
       "[[Document(page_content='Cats are independent pets that often enjoy their own space.', metadata={'source': 'mammal-pets-doc'})],\n",
       " [Document(page_content='Goldfish are popular pets for beginners, requiring relatively simple care.', metadata={'source': 'fish-pets-doc'})]]"
      ]
     },
     "execution_count": 20,
     "metadata": {},
     "output_type": "execute_result"
    }
   ],
   "source": [
    "retriever = vectorstore.as_retriever(\n",
    "    search_type=\"similarity\",\n",
    "    search_kwargs={\"k\": 1},\n",
    ")\n",
    "\n",
    "retriever.batch([\"cat\", \"shark\"])"
   ]
  },
  {
   "cell_type": "markdown",
   "id": "de12cdde-1043-4034-b306-a83a9c7dc770",
   "metadata": {},
   "source": [
    "`VectorStoreRetriever` supports search types of `\"similarity\"` (default), `\"mmr\"` (maximum marginal relevance, described above), and `\"similarity_score_threshold\"`. We can use the latter to threshold documents output by the retriever by similarity score.\n",
    "\n",
    "Retrievers can easily be incorporated into more complex applications, such as retrieval-augmented generation (RAG) applications that combine a given question with retrieved context into a prompt for a LLM. Below we show a minimal example."
   ]
  },
  {
   "cell_type": "code",
   "execution_count": 21,
   "id": "8b1c3e77-235f-46ff-86e9-d31385a7b3f1",
   "metadata": {
    "tags": []
   },
   "outputs": [],
   "source": [
    "from langchain_openai import ChatOpenAI\n",
    "\n",
    "llm = ChatOpenAI(model=\"gpt-3.5-turbo-0125\")"
   ]
  },
  {
   "cell_type": "code",
   "execution_count": 23,
   "id": "b17922dd-d3ae-42f3-bff5-2adc6404343a",
   "metadata": {
    "tags": []
   },
   "outputs": [],
   "source": [
    "from langchain_core.prompts import ChatPromptTemplate\n",
    "from langchain_core.runnables import RunnablePassthrough\n",
    "\n",
    "message = \"\"\"\n",
    "Answer this question using the provided context only.\n",
    "\n",
    "{question}\n",
    "\n",
    "Context:\n",
    "{context}\n",
    "\"\"\"\n",
    "\n",
    "prompt = ChatPromptTemplate.from_messages([(\"human\", message)])\n",
    "\n",
    "# The context is provider by the retriever object which returns the top result from the vectorstore by similarity score\n",
    "# Runnable to passthrough inputs unchanged or with additional keys.\n",
    "# Pass context into prompt \n",
    "# Send prompt to LLM, which is the OpenAI model\n",
    "rag_chain = {\"context\": retriever, \\\n",
    "             \"question\": RunnablePassthrough()} \\\n",
    "            | prompt \\\n",
    "            | llm"
   ]
  },
  {
   "cell_type": "markdown",
   "id": "8478b092-e10f-481e-843e-8c0e46713faf",
   "metadata": {},
   "source": [
    "API Reference: [ChatPromptTemplate](https://api.python.langchain.com/en/latest/prompts/langchain_core.prompts.chat.ChatPromptTemplate.html) | [RunnablePassthrough](https://api.python.langchain.com/en/latest/runnables/langchain_core.runnables.passthrough.RunnablePassthrough.html)"
   ]
  },
  {
   "cell_type": "code",
   "execution_count": 24,
   "id": "db151697-a002-4952-9927-c43950d2dea6",
   "metadata": {
    "tags": []
   },
   "outputs": [
    {
     "name": "stdout",
     "output_type": "stream",
     "text": [
      "Cats are independent pets that often enjoy their own space.\n"
     ]
    }
   ],
   "source": [
    "response = rag_chain.invoke(\"tell me about cats\")\n",
    "\n",
    "print(response.content)"
   ]
  },
  {
   "cell_type": "markdown",
   "id": "771024e7-e209-4728-86b5-f5ea8d607b8b",
   "metadata": {},
   "source": [
    "## Learn more:\n",
    "Retrieval strategies can be rich and complex. For example:\n",
    "\n",
    "* We can [infer hard rules and filters](https://python.langchain.com/v0.2/docs/how_to/self_query/) from a query (e.g., \"using documents published after 2020\");\n",
    "* We can [return documents that are linked](https://python.langchain.com/v0.2/docs/how_to/parent_document_retriever/) to the retrieved context in some way (e.g., via some document taxonomy);\n",
    "* We can generate [multiple embeddings](https://python.langchain.com/v0.2/docs/how_to/multi_vector/) for each unit of context;\n",
    "* We can [ensemble results](https://python.langchain.com/v0.2/docs/how_to/ensemble_retriever/) from multiple retrievers;\n",
    "* We can assign weights to documents, e.g., to [weigh recent documents higher](https://python.langchain.com/v0.2/docs/how_to/time_weighted_vectorstore/).\n",
    "\n",
    "The [retrievers section](https://python.langchain.com/v0.2/docs/how_to/#retrievers) of the how-to guides covers these and other built-in retrieval strategies.\n",
    "\n",
    "It is also straightforward to extend the [BaseRetriever](https://api.python.langchain.com/en/latest/retrievers/langchain_core.retrievers.BaseRetriever.html) class in order to implement custom retrievers. See our how-to guide [here](https://python.langchain.com/v0.2/docs/how_to/custom_retriever/)."
   ]
  }
 ],
 "metadata": {
  "kernelspec": {
   "display_name": "Python 3.11 for LLM",
   "language": "python",
   "name": "llm-python-3-11"
  },
  "language_info": {
   "codemirror_mode": {
    "name": "ipython",
    "version": 3
   },
   "file_extension": ".py",
   "mimetype": "text/x-python",
   "name": "python",
   "nbconvert_exporter": "python",
   "pygments_lexer": "ipython3",
   "version": "3.11.8"
  }
 },
 "nbformat": 4,
 "nbformat_minor": 5
}
