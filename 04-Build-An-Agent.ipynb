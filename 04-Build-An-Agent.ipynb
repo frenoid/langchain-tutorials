{
 "cells": [
  {
   "cell_type": "markdown",
   "id": "96a3f836-784a-4e0d-884f-be2d47756c8b",
   "metadata": {},
   "source": [
    "# Build an Agent\n",
    "Adapted from [Build an Agent](https://python.langchain.com/v0.2/docs/tutorials/agents/)\n",
    "\n",
    "By themselves, language models can't take actions - they just output text. A big use case for LangChain is creating agents. Agents are systems that use LLMs as reasoning engines to determine which actions to take and the inputs to pass them. After executing actions, the results can be fed back into the LLM to determine whether more actions are needed, or whether it is okay to finish.\n",
    "\n",
    "In this tutorial we will build an agent that can interact with a search engine. You will be able to ask this agent questions, watch it call the search tool, and have conversations with it.\n",
    "\n",
    "## Concepts\n"
   ]
  },
  {
   "cell_type": "markdown",
   "id": "b4cabe86-5312-4626-8c59-610c9e4c9bee",
   "metadata": {
    "tags": []
   },
   "source": [
    "In following this tutorial, you will learn how to:\n",
    "\n",
    "* Use [language models](https://python.langchain.com/v0.2/docs/concepts/#chat-models), in particular their tool calling ability\n",
    "* Use a Search [Tool](https://python.langchain.com/v0.2/docs/concepts/#tools) to look up information from the Internet\n",
    "* Compose a [LangGraph Agent](https://python.langchain.com/v0.2/docs/concepts/#agents), which use an LLM to determine actions and then execute them\n",
    "* Debug and trace your application using [LangSmith](https://python.langchain.com/v0.2/docs/concepts/#langsmith)"
   ]
  },
  {
   "cell_type": "markdown",
   "id": "497b3a37-e34a-4adc-98fb-023e33d71308",
   "metadata": {},
   "source": [
    "## End-to-end agent\n",
    "The code snippet below represents a fully functional agent that uses an LLM to decide which tools to use. It is equipped with a generic search tool. It has conversational memory - meaning that it can be used as a multi-turn chatbot.\n",
    "\n",
    "In the rest of the guide, we will walk through the individual components and what each part does - but if you want to just grab some code and get started, feel free to use this!\n",
    "```python\n",
    "# Import relevant functionality\n",
    "from langchain_anthropic import ChatAnthropic\n",
    "from langchain_community.tools.tavily_search import TavilySearchResults\n",
    "from langchain_core.messages import HumanMessage\n",
    "from langgraph.checkpoint.sqlite import SqliteSaver\n",
    "from langgraph.prebuilt import chat_agent_executor\n",
    "\n",
    "# Create the agent\n",
    "memory = SqliteSaver.from_conn_string(\":memory:\")\n",
    "model = ChatAnthropic(model_name=\"claude-3-sonnet-20240229\")\n",
    "search = TavilySearchResults(max_results=2)\n",
    "tools = [search]\n",
    "agent_executor = chat_agent_executor.create_tool_calling_executor(\n",
    "    model, tools, checkpointer=memory\n",
    ")\n",
    "\n",
    "# Use the agent\n",
    "config = {\"configurable\": {\"thread_id\": \"abc123\"}}\n",
    "for chunk in agent_executor.stream(\n",
    "    {\"messages\": [HumanMessage(content=\"hi im bob! and i live in sf\")]}, config\n",
    "):\n",
    "    print(chunk)\n",
    "    print(\"----\")\n",
    "\n",
    "for chunk in agent_executor.stream(\n",
    "    {\"messages\": [HumanMessage(content=\"whats the weather where I live?\")]}, config\n",
    "):\n",
    "    print(chunk)\n",
    "    print(\"----\")\n",
    "```\n",
    "\n",
    "* API Reference: [ChatAnthropic](https://api.python.langchain.com/en/latest/chat_models/langchain_anthropic.chat_models.ChatAnthropic.html) | [TavilySearchResults](https://api.python.langchain.com/en/latest/tools/langchain_community.tools.tavily_search.tool.TavilySearchResults.html) | [HumanMessage](https://api.python.langchain.com/en/latest/messages/langchain_core.messages.human.HumanMessage.html)"
   ]
  },
  {
   "cell_type": "markdown",
   "id": "2890ec81-d9b3-411b-a566-f8182be4b4f8",
   "metadata": {
    "tags": []
   },
   "source": [
    "## Setup\n",
    "We will need to multiple credentials to connect to Langchain API, OpenAI API and, Tavily API\n",
    "\n",
    "### Tavily\n",
    "We will be using [Tavily (a search engine)](https://python.langchain.com/v0.2/docs/integrations/tools/tavily_search/) as a tool. In order to use it, you will need to get and set an API key:\n",
    "```bash\n",
    "export TAVILY_API_KEY=\"...\"\n",
    "```\n",
    "\n",
    "### Setting credentials with python-dot-env\n",
    "Load credentials from a .env file and the [python-dotenv package](https://pypi.org/project/python-dotenv/)\n",
    "```toml\n",
    "LANGCHAIN_API_KEY=\"<KEY>\"\n",
    "OPENAI_API_KEY=\"<KEY>\"\n",
    "TAVILY_API_KEY=\"<KEY>\"\n",
    "```\n",
    "\n",
    "Many of the applications you build with LangChain will contain multiple steps with multiple invocations of LLM calls. As these applications get more and more complex, it becomes crucial to be able to inspect what exactly is going on inside your chain or agent. The best way to do this is with [LangSmith](https://smith.langchain.com/).\n",
    "\n",
    "After you sign up at the link above, make sure to set your environment variables to start logging traces:\n",
    "```bash\n",
    "export LANGCHAIN_TRACING_V2=\"true\"\n",
    "export LANGCHAIN_API_KEY=\"...\"\n",
    "```"
   ]
  },
  {
   "cell_type": "code",
   "execution_count": 5,
   "id": "7b380bf4-497d-4385-84bd-bc823915e57f",
   "metadata": {
    "tags": []
   },
   "outputs": [],
   "source": [
    "import os\n",
    "from dotenv import load_dotenv\n",
    "\n",
    "os.environ[\"LANGCHAIN_TRACING_V2\"] = \"true\"\n",
    "\n",
    "load_dotenv()\n",
    "assert os.environ[\"LANGCHAIN_API_KEY\"]\n",
    "assert os.environ[\"OPENAI_API_KEY\"]\n",
    "assert os.environ[\"TAVILY_API_KEY\"]"
   ]
  },
  {
   "cell_type": "markdown",
   "id": "fb2b2503-8f50-4e1e-a1f0-81cb4903ab7f",
   "metadata": {},
   "source": [
    "## Define tools\n",
    "We first need to create the tools we want to use. Our main tool of choice will be Tavily - a search engine. We have a built-in tool in LangChain to easily use Tavily search engine as tool."
   ]
  },
  {
   "cell_type": "code",
   "execution_count": 6,
   "id": "8664a66f-f2a5-48b5-ba0e-063146ece0be",
   "metadata": {
    "tags": []
   },
   "outputs": [],
   "source": [
    "from langchain_community.tools.tavily_search import TavilySearchResults"
   ]
  },
  {
   "cell_type": "markdown",
   "id": "6363804d-cdfd-4fb7-8195-d445437f2a27",
   "metadata": {},
   "source": [
    "* API Reference: [TavilySearchResults](https://api.python.langchain.com/en/latest/tools/langchain_community.tools.tavily_search.tool.TavilySearchResults.html)"
   ]
  },
  {
   "cell_type": "code",
   "execution_count": 8,
   "id": "568953ca-7a04-4ac2-a924-305501f5f927",
   "metadata": {
    "tags": []
   },
   "outputs": [
    {
     "data": {
      "text/plain": [
       "[{'url': 'https://www.weatherapi.com/',\n",
       "  'content': \"{'location': {'name': 'Singapore', 'region': '', 'country': 'Singapore', 'lat': 1.29, 'lon': 103.86, 'tz_id': 'Asia/Singapore', 'localtime_epoch': 1717225825, 'localtime': '2024-06-01 15:10'}, 'current': {'last_updated_epoch': 1717225200, 'last_updated': '2024-06-01 15:00', 'temp_c': 27.0, 'temp_f': 80.6, 'is_day': 1, 'condition': {'text': 'Partly cloudy', 'icon': '//cdn.weatherapi.com/weather/64x64/day/116.png', 'code': 1003}, 'wind_mph': 8.1, 'wind_kph': 13.0, 'wind_degree': 190, 'wind_dir': 'S', 'pressure_mb': 1011.0, 'pressure_in': 29.85, 'precip_mm': 0.07, 'precip_in': 0.0, 'humidity': 89, 'cloud': 75, 'feelslike_c': 30.4, 'feelslike_f': 86.7, 'windchill_c': 27.6, 'windchill_f': 81.6, 'heatindex_c': 31.5, 'heatindex_f': 88.7, 'dewpoint_c': 23.9, 'dewpoint_f': 75.1, 'vis_km': 10.0, 'vis_miles': 6.0, 'uv': 6.0, 'gust_mph': 20.4, 'gust_kph': 32.9}}\"},\n",
       " {'url': 'https://www.wunderground.com/hourly/sg/singapore/ISINGA72/date/2024-06-01',\n",
       "  'content': 'Singapore Weather Forecasts. Weather Underground provides local & long-range weather forecasts, weatherreports, maps & tropical weather conditions for the Singapore area.'}]"
      ]
     },
     "execution_count": 8,
     "metadata": {},
     "output_type": "execute_result"
    }
   ],
   "source": [
    "search = TavilySearchResults(max_results=2)\n",
    "\n",
    "search.invoke(\"what is the weather in Singapore\")"
   ]
  },
  {
   "cell_type": "markdown",
   "id": "d6d0dcb8-a387-4e12-91a6-2501a409bb1a",
   "metadata": {},
   "source": [
    "If we want, we can create other tools. Once we have all the tools we want, we can put them in a list that we will reference later."
   ]
  },
  {
   "cell_type": "code",
   "execution_count": 9,
   "id": "f40d8119-3010-4206-8b29-80999e02d2ff",
   "metadata": {
    "tags": []
   },
   "outputs": [],
   "source": [
    "tools = [search]"
   ]
  },
  {
   "cell_type": "markdown",
   "id": "aa422807-04c0-413e-aca3-a83c86592fa6",
   "metadata": {},
   "source": [
    "# Using Language Models\n",
    "We will use the OpenAI gpt-4 model to call tools"
   ]
  },
  {
   "cell_type": "code",
   "execution_count": 10,
   "id": "78880639-d1e5-47e7-b026-577d195b9aa3",
   "metadata": {
    "tags": []
   },
   "outputs": [],
   "source": [
    "from langchain_openai import ChatOpenAI\n",
    "\n",
    "model = ChatOpenAI(model=\"gpt-4\")"
   ]
  },
  {
   "cell_type": "markdown",
   "id": "23eadf1a-437c-4100-9e70-0f8512a3d649",
   "metadata": {},
   "source": [
    "You can call the language model by passing in a list of messages. By default, the response is a `content` string."
   ]
  },
  {
   "cell_type": "code",
   "execution_count": 11,
   "id": "6ce6ff2e-b01f-41ea-8cab-19236c93885a",
   "metadata": {
    "tags": []
   },
   "outputs": [
    {
     "data": {
      "text/plain": [
       "'Hello! How can I assist you today?'"
      ]
     },
     "execution_count": 11,
     "metadata": {},
     "output_type": "execute_result"
    }
   ],
   "source": [
    "from langchain_core.messages import HumanMessage\n",
    "\n",
    "response = model.invoke([HumanMessage(content=\"hi!\")])\n",
    "response.content"
   ]
  },
  {
   "cell_type": "markdown",
   "id": "cfaa18c4-111e-4f8a-815a-8f23a52d51f8",
   "metadata": {},
   "source": [
    "We can now see what it is like to enable this model to do tool calling. In order to enable that we use `.bind_tools` to give the language model knowledge of these tools"
   ]
  },
  {
   "cell_type": "code",
   "execution_count": 13,
   "id": "a18970b0-c69c-475c-bfac-7281f1046369",
   "metadata": {
    "tags": []
   },
   "outputs": [],
   "source": [
    "model_with_tools = model \\\n",
    "                .bind_tools(tools) # The LLM has access to the tools list"
   ]
  },
  {
   "cell_type": "markdown",
   "id": "f5064749-9197-4467-aae6-d5bbaf25f503",
   "metadata": {},
   "source": [
    "We can now call the model. Let's first call it with a normal message, and see how it responds. We can look at both the `content` field as well as the `tool_calls` field."
   ]
  },
  {
   "cell_type": "code",
   "execution_count": 14,
   "id": "fb9d1deb-2517-4da1-aac8-e7896800d2c3",
   "metadata": {
    "tags": []
   },
   "outputs": [
    {
     "name": "stdout",
     "output_type": "stream",
     "text": [
      "ContentString: Hello! How can I assist you today?\n",
      "ToolCalls: []\n"
     ]
    }
   ],
   "source": [
    "response = model_with_tools.invoke([HumanMessage(content=\"Hi!\")])\n",
    "\n",
    "print(f\"ContentString: {response.content}\")\n",
    "print(f\"ToolCalls: {response.tool_calls}\")"
   ]
  },
  {
   "cell_type": "markdown",
   "id": "570b377c-d010-437b-a4ef-15671d1051d4",
   "metadata": {},
   "source": [
    "Now, let's try calling it with some input that would expect a tool to be called."
   ]
  },
  {
   "cell_type": "code",
   "execution_count": 17,
   "id": "c73144c8-e9d9-4d91-8857-0a4b807830f0",
   "metadata": {
    "tags": []
   },
   "outputs": [
    {
     "name": "stdout",
     "output_type": "stream",
     "text": [
      "ContentString: \n",
      "ToolCalls: [{'name': 'tavily_search_results_json', 'args': {'query': 'current weather in Singapore'}, 'id': 'call_7rUHWygmHZDvi5jSiHCtW4t9'}]\n"
     ]
    }
   ],
   "source": [
    "response = model_with_tools.invoke(\n",
    "    [HumanMessage(content=\"What's the weather in Singapore?\")]\n",
    ")\n",
    "\n",
    "print(f\"ContentString: {response.content}\")\n",
    "print(f\"ToolCalls: {response.tool_calls}\")"
   ]
  },
  {
   "cell_type": "markdown",
   "id": "f41edf88-b936-4b22-9683-82b994e627c3",
   "metadata": {},
   "source": [
    "We can see that there's now no content, but there is a tool call! It wants us to call the Tavily Search tool.\n",
    "\n",
    "This isn't calling that tool yet - it's just telling us to. In order to actually calll it, we'll want to create our agent.\n",
    "\n",
    "## Create the agent\n",
    "Now that we have defined the tools and the LLM, we can create the agent. We will be using LangGraph to construct the agent. Currently we are using a high level interface to construct the agent, but the nice thing about LangGraph is that this high-level interface is backed by a low-level, highly controllable API in case you want to modify the agent logic.\n",
    "\n",
    "Now, we can initalize the agent with the LLM and the tools.\n",
    "\n",
    "Note that we are passing in the `model`, not `model_with_tools`. That is because `create_tool_calling_executor` will call `.bind_tools` for us under the hood."
   ]
  },
  {
   "cell_type": "code",
   "execution_count": 20,
   "id": "625cb63b-28e0-49e4-9d6a-bbefdb4ba695",
   "metadata": {
    "tags": []
   },
   "outputs": [],
   "source": [
    "from langgraph.prebuilt import chat_agent_executor\n",
    "\n",
    "agent_executor = chat_agent_executor \\\n",
    "    .create_tool_calling_executor(model, tools)"
   ]
  },
  {
   "cell_type": "markdown",
   "id": "fd7f7b01-9b44-434d-a3de-509708f8354f",
   "metadata": {},
   "source": [
    "## Run the agent\n",
    "We can now run the agent on a few queries! Note that for now, these are all __stateless__ queries (it won't remember previous interactions). Note that the agent will return the __final__ state at the end of the interaction (which includes any inputs, we will see later on how to get only the outputs).\n",
    "\n",
    "First up, let's see how it responds when there's no need to call a tool:"
   ]
  },
  {
   "cell_type": "code",
   "execution_count": 21,
   "id": "effb9db5-30d0-4fec-a11d-96145a2ad8b3",
   "metadata": {
    "tags": []
   },
   "outputs": [
    {
     "data": {
      "text/plain": [
       "[HumanMessage(content='hi!', id='4966e44c-287b-4284-9f23-1d25f367450f'),\n",
       " AIMessage(content='Hello! How can I assist you today?', response_metadata={'token_usage': {'completion_tokens': 10, 'prompt_tokens': 83, 'total_tokens': 93}, 'model_name': 'gpt-4', 'system_fingerprint': None, 'finish_reason': 'stop', 'logprobs': None}, id='run-6e367fc0-3d33-433b-8823-52285b53f105-0')]"
      ]
     },
     "execution_count": 21,
     "metadata": {},
     "output_type": "execute_result"
    }
   ],
   "source": [
    "response = agent_executor.invoke({\"messages\": [HumanMessage(content=\"hi!\")]})\n",
    "\n",
    "response[\"messages\"]"
   ]
  },
  {
   "cell_type": "markdown",
   "id": "1290455e-793b-4c0b-8581-603ea7cc0e2a",
   "metadata": {},
   "source": [
    "In order to see exactly what is happening under the hood (and to make sure it's not calling a tool) we can take a look at the [LangSmith trace](https://smith.langchain.com/public/28311faa-e135-4d6a-ab6b-caecf6482aaa/r)\n",
    "\n",
    "Let's now try it out on an example where it should be invoking the tool"
   ]
  },
  {
   "cell_type": "code",
   "execution_count": 22,
   "id": "761b8a31-f412-432d-85e2-adfcc8f3630d",
   "metadata": {
    "tags": []
   },
   "outputs": [
    {
     "data": {
      "text/plain": [
       "[HumanMessage(content='whats the weather in Singapore?', id='da8ebb97-e259-41e6-8670-1a4732fbc0ea'),\n",
       " AIMessage(content='', additional_kwargs={'tool_calls': [{'id': 'call_9dsIsTesBOIvnZeOi0BUJg1t', 'function': {'arguments': '{\\n  \"query\": \"current weather in Singapore\"\\n}', 'name': 'tavily_search_results_json'}, 'type': 'function'}]}, response_metadata={'token_usage': {'completion_tokens': 22, 'prompt_tokens': 88, 'total_tokens': 110}, 'model_name': 'gpt-4', 'system_fingerprint': None, 'finish_reason': 'tool_calls', 'logprobs': None}, id='run-2ba81b2a-fdad-4e14-8f2d-947129629065-0', tool_calls=[{'name': 'tavily_search_results_json', 'args': {'query': 'current weather in Singapore'}, 'id': 'call_9dsIsTesBOIvnZeOi0BUJg1t'}]),\n",
       " ToolMessage(content='[{\"url\": \"https://www.weatherapi.com/\", \"content\": \"{\\'location\\': {\\'name\\': \\'Singapore\\', \\'region\\': \\'\\', \\'country\\': \\'Singapore\\', \\'lat\\': 1.29, \\'lon\\': 103.86, \\'tz_id\\': \\'Asia/Singapore\\', \\'localtime_epoch\\': 1717227574, \\'localtime\\': \\'2024-06-01 15:39\\'}, \\'current\\': {\\'last_updated_epoch\\': 1717227000, \\'last_updated\\': \\'2024-06-01 15:30\\', \\'temp_c\\': 28.0, \\'temp_f\\': 82.4, \\'is_day\\': 1, \\'condition\\': {\\'text\\': \\'Partly cloudy\\', \\'icon\\': \\'//cdn.weatherapi.com/weather/64x64/day/116.png\\', \\'code\\': 1003}, \\'wind_mph\\': 8.1, \\'wind_kph\\': 13.0, \\'wind_degree\\': 200, \\'wind_dir\\': \\'SSW\\', \\'pressure_mb\\': 1010.0, \\'pressure_in\\': 29.83, \\'precip_mm\\': 0.07, \\'precip_in\\': 0.0, \\'humidity\\': 84, \\'cloud\\': 75, \\'feelslike_c\\': 32.4, \\'feelslike_f\\': 90.4, \\'windchill_c\\': 27.6, \\'windchill_f\\': 81.6, \\'heatindex_c\\': 31.5, \\'heatindex_f\\': 88.7, \\'dewpoint_c\\': 23.9, \\'dewpoint_f\\': 75.1, \\'vis_km\\': 10.0, \\'vis_miles\\': 6.0, \\'uv\\': 6.0, \\'gust_mph\\': 20.4, \\'gust_kph\\': 32.9}}\"}, {\"url\": \"https://www.wunderground.com/hourly/sg/singapore/ISINGA72/date/2024-06-01\", \"content\": \"Singapore Weather Forecasts. Weather Underground provides local & long-range weather forecasts, weatherreports, maps & tropical weather conditions for the Singapore area.\"}]', name='tavily_search_results_json', id='e5ff960e-95b5-4fed-851d-4177426a7bae', tool_call_id='call_9dsIsTesBOIvnZeOi0BUJg1t'),\n",
       " AIMessage(content='The current weather in Singapore is partly cloudy with a temperature of 28.0°C (82.4°F). The wind is coming from the SSW at a speed of 13.0 kph. The humidity is at 84% and the UV index is 6.0. [Source](https://www.weatherapi.com/)', response_metadata={'token_usage': {'completion_tokens': 70, 'prompt_tokens': 585, 'total_tokens': 655}, 'model_name': 'gpt-4', 'system_fingerprint': None, 'finish_reason': 'stop', 'logprobs': None}, id='run-3478775f-ae58-4999-abc1-d36b9b8c0bec-0')]"
      ]
     },
     "execution_count": 22,
     "metadata": {},
     "output_type": "execute_result"
    }
   ],
   "source": [
    "response = agent_executor.invoke(\n",
    "    {\"messages\": [HumanMessage(content=\"whats the weather in Singapore?\")]}\n",
    ")\n",
    "response[\"messages\"]"
   ]
  },
  {
   "cell_type": "markdown",
   "id": "1bf16734-c068-4481-9c90-a72f3521cec7",
   "metadata": {},
   "source": [
    "We can check out the [LangSmith trace](https://smith.langchain.com/public/f520839d-cd4d-4495-8764-e32b548e235d/r) to make sure it's calling the search tool effectively."
   ]
  },
  {
   "cell_type": "markdown",
   "id": "7a7af406-5c90-46bb-b9d4-b70592c603ae",
   "metadata": {
    "tags": []
   },
   "source": [
    "## Streaming Messages\n",
    "We've seen how the agent can be called with `.invoke` to get back a final response. If the agent is executing multiple steps, that may take a while. In order to show intermediate progress, we can stream back messages as they occur."
   ]
  },
  {
   "cell_type": "code",
   "execution_count": 25,
   "id": "4a3c7b67-dcda-4113-93bd-3153d02935ad",
   "metadata": {
    "tags": []
   },
   "outputs": [
    {
     "name": "stdout",
     "output_type": "stream",
     "text": [
      "{'agent': {'messages': [AIMessage(content='', additional_kwargs={'tool_calls': [{'id': 'call_AvY2IuVt8a4QBHCGiIRyjGL7', 'function': {'arguments': '{\\n  \"query\": \"current weather in Singapore\"\\n}', 'name': 'tavily_search_results_json'}, 'type': 'function'}]}, response_metadata={'token_usage': {'completion_tokens': 22, 'prompt_tokens': 88, 'total_tokens': 110}, 'model_name': 'gpt-4', 'system_fingerprint': None, 'finish_reason': 'tool_calls', 'logprobs': None}, id='run-d4ff6d32-acf4-4deb-94ac-cec123d1686c-0', tool_calls=[{'name': 'tavily_search_results_json', 'args': {'query': 'current weather in Singapore'}, 'id': 'call_AvY2IuVt8a4QBHCGiIRyjGL7'}])]}}\n",
      "----\n",
      "{'tools': {'messages': [ToolMessage(content='[{\"url\": \"https://www.weatherapi.com/\", \"content\": \"{\\'location\\': {\\'name\\': \\'Singapore\\', \\'region\\': \\'\\', \\'country\\': \\'Singapore\\', \\'lat\\': 1.29, \\'lon\\': 103.86, \\'tz_id\\': \\'Asia/Singapore\\', \\'localtime_epoch\\': 1717227574, \\'localtime\\': \\'2024-06-01 15:39\\'}, \\'current\\': {\\'last_updated_epoch\\': 1717227000, \\'last_updated\\': \\'2024-06-01 15:30\\', \\'temp_c\\': 28.0, \\'temp_f\\': 82.4, \\'is_day\\': 1, \\'condition\\': {\\'text\\': \\'Partly cloudy\\', \\'icon\\': \\'//cdn.weatherapi.com/weather/64x64/day/116.png\\', \\'code\\': 1003}, \\'wind_mph\\': 8.1, \\'wind_kph\\': 13.0, \\'wind_degree\\': 200, \\'wind_dir\\': \\'SSW\\', \\'pressure_mb\\': 1010.0, \\'pressure_in\\': 29.83, \\'precip_mm\\': 0.07, \\'precip_in\\': 0.0, \\'humidity\\': 84, \\'cloud\\': 75, \\'feelslike_c\\': 32.4, \\'feelslike_f\\': 90.4, \\'windchill_c\\': 27.6, \\'windchill_f\\': 81.6, \\'heatindex_c\\': 31.5, \\'heatindex_f\\': 88.7, \\'dewpoint_c\\': 23.9, \\'dewpoint_f\\': 75.1, \\'vis_km\\': 10.0, \\'vis_miles\\': 6.0, \\'uv\\': 6.0, \\'gust_mph\\': 20.4, \\'gust_kph\\': 32.9}}\"}, {\"url\": \"https://www.wunderground.com/hourly/sg/singapore/ISINGA72/date/2024-06-01\", \"content\": \"Singapore Weather Forecasts. Weather Underground provides local & long-range weather forecasts, weatherreports, maps & tropical weather conditions for the Singapore area.\"}]', name='tavily_search_results_json', tool_call_id='call_AvY2IuVt8a4QBHCGiIRyjGL7')]}}\n",
      "----\n",
      "{'agent': {'messages': [AIMessage(content='The current weather in Singapore is partly cloudy with a temperature of 28 degrees Celsius (82.4 degrees Fahrenheit). The wind is coming from the SSW at 13.0 kph (8.1 mph). The humidity is at 84% and the UV index is 6. The pressure is 1010.0 mb. The feels-like temperature is 32.4 degrees Celsius (90.4 degrees Fahrenheit). [Source](https://www.weatherapi.com/)', response_metadata={'token_usage': {'completion_tokens': 98, 'prompt_tokens': 585, 'total_tokens': 683}, 'model_name': 'gpt-4', 'system_fingerprint': None, 'finish_reason': 'stop', 'logprobs': None}, id='run-0c2dcbc9-4e26-4fd7-a5cc-2eae44f5b948-0')]}}\n",
      "----\n"
     ]
    }
   ],
   "source": [
    "for chunk in agent_executor.stream(\n",
    "    {\"messages\": [HumanMessage(content=\"whats the weather in Singapore?\")]}\n",
    "):\n",
    "    print(chunk)\n",
    "    print(\"----\")"
   ]
  },
  {
   "cell_type": "markdown",
   "id": "8ebb5015-8b7a-4f86-9a91-7bee2a7ed647",
   "metadata": {},
   "source": [
    "## Streaming tokens\n",
    "In addition to streaming back messages, it is also useful to be streaming back tokens. We can do this with the `.astream_events` method.\n",
    "\n",
    "*INFO: This .astream_events method only works with Python 3.11 or higher.*"
   ]
  },
  {
   "cell_type": "code",
   "execution_count": 26,
   "id": "87f2d248-b8f5-431d-86cb-b5daea1439d9",
   "metadata": {
    "tags": []
   },
   "outputs": [
    {
     "name": "stderr",
     "output_type": "stream",
     "text": [
      "/home/ubuntu/.local/lib/python3.11/site-packages/langchain_core/_api/beta_decorator.py:87: LangChainBetaWarning: This API is in beta and may change in the future.\n",
      "  warn_beta(\n"
     ]
    },
    {
     "name": "stdout",
     "output_type": "stream",
     "text": [
      "--\n",
      "Starting tool: tavily_search_results_json with inputs: {'query': 'current weather in Singapore'}\n",
      "Done tool: tavily_search_results_json\n",
      "Tool output was: [{'url': 'https://www.weatherapi.com/', 'content': \"{'location': {'name': 'Singapore', 'region': '', 'country': 'Singapore', 'lat': 1.29, 'lon': 103.86, 'tz_id': 'Asia/Singapore', 'localtime_epoch': 1717227761, 'localtime': '2024-06-01 15:42'}, 'current': {'last_updated_epoch': 1717227000, 'last_updated': '2024-06-01 15:30', 'temp_c': 28.0, 'temp_f': 82.4, 'is_day': 1, 'condition': {'text': 'Partly cloudy', 'icon': '//cdn.weatherapi.com/weather/64x64/day/116.png', 'code': 1003}, 'wind_mph': 8.1, 'wind_kph': 13.0, 'wind_degree': 200, 'wind_dir': 'SSW', 'pressure_mb': 1010.0, 'pressure_in': 29.83, 'precip_mm': 0.07, 'precip_in': 0.0, 'humidity': 84, 'cloud': 75, 'feelslike_c': 32.4, 'feelslike_f': 90.4, 'windchill_c': 27.6, 'windchill_f': 81.6, 'heatindex_c': 31.5, 'heatindex_f': 88.7, 'dewpoint_c': 23.9, 'dewpoint_f': 75.1, 'vis_km': 10.0, 'vis_miles': 6.0, 'uv': 6.0, 'gust_mph': 20.4, 'gust_kph': 32.9}}\"}, {'url': 'https://www.wunderground.com/hourly/sg/singapore/ISINGA72/date/2024-06-01', 'content': 'Singapore Weather Forecasts. Weather Underground provides local & long-range weather forecasts, weatherreports, maps & tropical weather conditions for the Singapore area.'}]\n",
      "--\n",
      "The| current| weather| in| Singapore| is| partly| cloudy| with| a| temperature| of| |28|.|0|°C| (|82|.|4|°F|).| The| wind| is| coming| from| the| south|-s|outh|west| at| a| speed| of| |13|.|0| k|ph| (|8|.|1| mph|).| The| humidity| level| is| at| |84|%,| and| the| UV| index| is| |6|.|0|.| [|source|](|https|://|www|.weather|api|.com|/)|"
     ]
    }
   ],
   "source": [
    "async for event in agent_executor.astream_events(\n",
    "    {\"messages\": [HumanMessage(content=\"whats the weather in Singapore?\")]}, version=\"v1\"\n",
    "):\n",
    "    kind = event[\"event\"]\n",
    "    if kind == \"on_chain_start\":\n",
    "        if (\n",
    "            event[\"name\"] == \"Agent\"\n",
    "        ):  # Was assigned when creating the agent with `.with_config({\"run_name\": \"Agent\"})`\n",
    "            print(\n",
    "                f\"Starting agent: {event['name']} with input: {event['data'].get('input')}\"\n",
    "            )\n",
    "    elif kind == \"on_chain_end\":\n",
    "        if (\n",
    "            event[\"name\"] == \"Agent\"\n",
    "        ):  # Was assigned when creating the agent with `.with_config({\"run_name\": \"Agent\"})`\n",
    "            print()\n",
    "            print(\"--\")\n",
    "            print(\n",
    "                f\"Done agent: {event['name']} with output: {event['data'].get('output')['output']}\"\n",
    "            )\n",
    "    if kind == \"on_chat_model_stream\":\n",
    "        content = event[\"data\"][\"chunk\"].content\n",
    "        if content:\n",
    "            # Empty content in the context of OpenAI means\n",
    "            # that the model is asking for a tool to be invoked.\n",
    "            # So we only print non-empty content\n",
    "            print(content, end=\"|\")\n",
    "    elif kind == \"on_tool_start\":\n",
    "        print(\"--\")\n",
    "        print(\n",
    "            f\"Starting tool: {event['name']} with inputs: {event['data'].get('input')}\"\n",
    "        )\n",
    "    elif kind == \"on_tool_end\":\n",
    "        print(f\"Done tool: {event['name']}\")\n",
    "        print(f\"Tool output was: {event['data'].get('output')}\")\n",
    "        print(\"--\")"
   ]
  },
  {
   "cell_type": "markdown",
   "id": "75c3a643-33cd-4883-add7-0f731620aafb",
   "metadata": {},
   "source": [
    "## Adding in memory\n",
    "As mentioned earlier, this agent is stateless. This means it does not remember previous interactions. To give it memory we need to pass in a checkpointer. When passing in a checkpointer, we also have to pass in a `thread_id` when invoking the agent (so it knows which thread/conversation to resume from)."
   ]
  },
  {
   "cell_type": "code",
   "execution_count": 28,
   "id": "59b20545-fac1-460a-ba15-b8f5a0b19a59",
   "metadata": {
    "tags": []
   },
   "outputs": [
    {
     "name": "stdout",
     "output_type": "stream",
     "text": [
      "{'agent': {'messages': [AIMessage(content='Hello Bob! How can I assist you today?', response_metadata={'token_usage': {'completion_tokens': 11, 'prompt_tokens': 85, 'total_tokens': 96}, 'model_name': 'gpt-4', 'system_fingerprint': None, 'finish_reason': 'stop', 'logprobs': None}, id='run-812fabb3-3d32-4c56-91c1-8b088bfed646-0')]}}\n",
      "----\n"
     ]
    }
   ],
   "source": [
    "### Create an in-memory checkpointer using Sqllite\n",
    "from langgraph.checkpoint.sqlite import SqliteSaver\n",
    "\n",
    "memory = SqliteSaver.from_conn_string(\":memory:\")\n",
    "\n",
    "### Create an agent by passing in model, tools, and checkpointer\n",
    "agent_executor = chat_agent_executor.create_tool_calling_executor(\n",
    "    model=model,\n",
    "    tools=tools,\n",
    "    checkpointer=memory\n",
    ")\n",
    "\n",
    "config = {\"configurable\": \n",
    "          {\"thread_id\": \"abc123\"} # thread_id keeps track of which thread/conversation to resume from\n",
    "         }\n",
    "\n",
    "### Send prompt to agent_executor and stream output\n",
    "for chunk in agent_executor.stream(\n",
    "    input={\"messages\": [HumanMessage(content=\"hi im bob!\")]},\n",
    "    config=config,\n",
    "):\n",
    "    print(chunk)\n",
    "    print(\"----\")"
   ]
  },
  {
   "cell_type": "code",
   "execution_count": 29,
   "id": "88612c6f-4ed0-48f2-89fa-4036716358d3",
   "metadata": {
    "tags": []
   },
   "outputs": [
    {
     "name": "stdout",
     "output_type": "stream",
     "text": [
      "{'agent': {'messages': [AIMessage(content='Your name is Bob.', response_metadata={'token_usage': {'completion_tokens': 6, 'prompt_tokens': 108, 'total_tokens': 114}, 'model_name': 'gpt-4', 'system_fingerprint': None, 'finish_reason': 'stop', 'logprobs': None}, id='run-fe6ce6d7-69ae-4139-8cb3-d24a6bde6d46-0')]}}\n",
      "----\n"
     ]
    }
   ],
   "source": [
    "for chunk in agent_executor.stream(\n",
    "    {\"messages\": [HumanMessage(content=\"whats my name?\")]}, config\n",
    "):\n",
    "    print(chunk)\n",
    "    print(\"----\")"
   ]
  },
  {
   "cell_type": "markdown",
   "id": "429a71a8-a97f-4bbd-bd12-d55f182f79be",
   "metadata": {},
   "source": [
    "If I want to start a new conversation, all I have to do is change the `thread_id` used"
   ]
  },
  {
   "cell_type": "markdown",
   "id": "54f5778a-8b52-4ba3-981a-1fe73e24311f",
   "metadata": {
    "tags": []
   },
   "source": [
    "## Conclusion\n",
    "That's a wrap! In this quick start we covered how to create a simple agent. We've then shown how to stream back a response - not only the intermediate steps, but also tokens! We've also added in memory so you can have a conversation with them. Agents are a complex topic, and there's lot to learn!\n",
    "\n",
    "For more information on Agents, please check out the [LangGraph](https://python.langchain.com/v0.2/docs/concepts/#langgraph) documentation. This has it's own set of concepts, tutorials, and how-to guides."
   ]
  }
 ],
 "metadata": {
  "kernelspec": {
   "display_name": "Python 3.11 for LLM",
   "language": "python",
   "name": "llm-python-3-11"
  },
  "language_info": {
   "codemirror_mode": {
    "name": "ipython",
    "version": 3
   },
   "file_extension": ".py",
   "mimetype": "text/x-python",
   "name": "python",
   "nbconvert_exporter": "python",
   "pygments_lexer": "ipython3",
   "version": "3.11.8"
  }
 },
 "nbformat": 4,
 "nbformat_minor": 5
}
