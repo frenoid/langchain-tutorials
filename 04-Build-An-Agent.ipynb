{
 "cells": [
  {
   "cell_type": "markdown",
   "id": "96a3f836-784a-4e0d-884f-be2d47756c8b",
   "metadata": {},
   "source": [
    "# Build an Agent\n",
    "Adapted from [Build an Agent](https://python.langchain.com/v0.2/docs/tutorials/agents/)\n",
    "\n",
    "By themselves, language models can't take actions - they just output text. A big use case for LangChain is creating agents. Agents are systems that use LLMs as reasoning engines to determine which actions to take and the inputs to pass them. After executing actions, the results can be fed back into the LLM to determine whether more actions are needed, or whether it is okay to finish.\n",
    "\n",
    "In this tutorial we will build an agent that can interact with a search engine. You will be able to ask this agent questions, watch it call the search tool, and have conversations with it.\n",
    "\n",
    "## Concepts\n"
   ]
  },
  {
   "cell_type": "markdown",
   "id": "b4cabe86-5312-4626-8c59-610c9e4c9bee",
   "metadata": {
    "tags": []
   },
   "source": [
    "In following this tutorial, you will learn how to:\n",
    "\n",
    "* Use [language models](https://python.langchain.com/v0.2/docs/concepts/#chat-models), in particular their tool calling ability\n",
    "* Use a Search [Tool](https://python.langchain.com/v0.2/docs/concepts/#tools) to look up information from the Internet\n",
    "* Compose a [LangGraph Agent](https://python.langchain.com/v0.2/docs/concepts/#agents), which use an LLM to determine actions and then execute them\n",
    "* Debug and trace your application using [LangSmith](https://python.langchain.com/v0.2/docs/concepts/#langsmith)"
   ]
  },
  {
   "cell_type": "markdown",
   "id": "497b3a37-e34a-4adc-98fb-023e33d71308",
   "metadata": {},
   "source": [
    "## End-to-end agent\n",
    "The code snippet below represents a fully functional agent that uses an LLM to decide which tools to use. It is equipped with a generic search tool. It has conversational memory - meaning that it can be used as a multi-turn chatbot.\n",
    "\n",
    "In the rest of the guide, we will walk through the individual components and what each part does - but if you want to just grab some code and get started, feel free to use this!\n",
    "```python\n",
    "# Import relevant functionality\n",
    "from langchain_anthropic import ChatAnthropic\n",
    "from langchain_community.tools.tavily_search import TavilySearchResults\n",
    "from langchain_core.messages import HumanMessage\n",
    "from langgraph.checkpoint.sqlite import SqliteSaver\n",
    "from langgraph.prebuilt import chat_agent_executor\n",
    "\n",
    "# Create the agent\n",
    "memory = SqliteSaver.from_conn_string(\":memory:\")\n",
    "model = ChatAnthropic(model_name=\"claude-3-sonnet-20240229\")\n",
    "search = TavilySearchResults(max_results=2)\n",
    "tools = [search]\n",
    "agent_executor = chat_agent_executor.create_tool_calling_executor(\n",
    "    model, tools, checkpointer=memory\n",
    ")\n",
    "\n",
    "# Use the agent\n",
    "config = {\"configurable\": {\"thread_id\": \"abc123\"}}\n",
    "for chunk in agent_executor.stream(\n",
    "    {\"messages\": [HumanMessage(content=\"hi im bob! and i live in sf\")]}, config\n",
    "):\n",
    "    print(chunk)\n",
    "    print(\"----\")\n",
    "\n",
    "for chunk in agent_executor.stream(\n",
    "    {\"messages\": [HumanMessage(content=\"whats the weather where I live?\")]}, config\n",
    "):\n",
    "    print(chunk)\n",
    "    print(\"----\")\n",
    "```\n",
    "\n",
    "* API Reference: [ChatAnthropic](https://api.python.langchain.com/en/latest/chat_models/langchain_anthropic.chat_models.ChatAnthropic.html) | [TavilySearchResults](https://api.python.langchain.com/en/latest/tools/langchain_community.tools.tavily_search.tool.TavilySearchResults.html) | [HumanMessage](https://api.python.langchain.com/en/latest/messages/langchain_core.messages.human.HumanMessage.html)"
   ]
  },
  {
   "cell_type": "markdown",
   "id": "2890ec81-d9b3-411b-a566-f8182be4b4f8",
   "metadata": {
    "tags": []
   },
   "source": [
    "## Setup\n",
    "We will need to multiple credentials to connect to Langchain API, OpenAI API and, Tavily API\n",
    "\n",
    "### Tavily\n",
    "We will be using [Tavily (a search engine)](https://python.langchain.com/v0.2/docs/integrations/tools/tavily_search/) as a tool. In order to use it, you will need to get and set an API key:\n",
    "```bash\n",
    "export TAVILY_API_KEY=\"...\"\n",
    "```\n",
    "\n",
    "### Setting credentials with python-dot-env\n",
    "Load credentials from a .env file and the [python-dotenv package](https://pypi.org/project/python-dotenv/)\n",
    "```toml\n",
    "LANGCHAIN_API_KEY=\"<KEY>\"\n",
    "OPENAI_API_KEY=\"<KEY>\"\n",
    "TAVILY_API_KEY=\"<KEY>\"\n",
    "```\n",
    "\n",
    "Many of the applications you build with LangChain will contain multiple steps with multiple invocations of LLM calls. As these applications get more and more complex, it becomes crucial to be able to inspect what exactly is going on inside your chain or agent. The best way to do this is with [LangSmith](https://smith.langchain.com/).\n",
    "\n",
    "After you sign up at the link above, make sure to set your environment variables to start logging traces:\n",
    "```bash\n",
    "export LANGCHAIN_TRACING_V2=\"true\"\n",
    "export LANGCHAIN_API_KEY=\"...\"\n",
    "```"
   ]
  },
  {
   "cell_type": "code",
   "execution_count": 1,
   "id": "7b380bf4-497d-4385-84bd-bc823915e57f",
   "metadata": {
    "tags": []
   },
   "outputs": [],
   "source": [
    "import os\n",
    "from dotenv import load_dotenv\n",
    "\n",
    "os.environ[\"LANGCHAIN_TRACING_V2\"] = \"true\"\n",
    "\n",
    "load_dotenv()\n",
    "assert os.environ[\"LANGCHAIN_API_KEY\"]\n",
    "assert os.environ[\"OPENAI_API_KEY\"]\n",
    "assert os.environ[\"TAVILY_API_KEY\"]"
   ]
  },
  {
   "cell_type": "markdown",
   "id": "fb2b2503-8f50-4e1e-a1f0-81cb4903ab7f",
   "metadata": {},
   "source": [
    "## Define tools\n",
    "We first need to create the tools we want to use. Our main tool of choice will be Tavily - a search engine. We have a built-in tool in LangChain to easily use Tavily search engine as tool."
   ]
  },
  {
   "cell_type": "code",
   "execution_count": 2,
   "id": "8664a66f-f2a5-48b5-ba0e-063146ece0be",
   "metadata": {
    "tags": []
   },
   "outputs": [],
   "source": [
    "from langchain_community.tools.tavily_search import TavilySearchResults"
   ]
  },
  {
   "cell_type": "markdown",
   "id": "6363804d-cdfd-4fb7-8195-d445437f2a27",
   "metadata": {},
   "source": [
    "* API Reference: [TavilySearchResults](https://api.python.langchain.com/en/latest/tools/langchain_community.tools.tavily_search.tool.TavilySearchResults.html)"
   ]
  },
  {
   "cell_type": "code",
   "execution_count": 3,
   "id": "568953ca-7a04-4ac2-a924-305501f5f927",
   "metadata": {
    "tags": []
   },
   "outputs": [
    {
     "data": {
      "text/plain": [
       "[{'url': 'https://world-weather.info/forecast/singapore/singapore/june-2024/',\n",
       "  'content': 'Extended weather forecast in Singapore. Hourly Week 10 days 14 days 30 days Year. Detailed ⚡ Singapore Weather Forecast for June 2024 - day/night 🌡️ temperatures, precipitations - World-Weather.info.'},\n",
       " {'url': 'https://www.weatherapi.com/',\n",
       "  'content': \"{'location': {'name': 'Singapore', 'region': '', 'country': 'Singapore', 'lat': 1.29, 'lon': 103.86, 'tz_id': 'Asia/Singapore', 'localtime_epoch': 1719052792, 'localtime': '2024-06-22 18:39'}, 'current': {'last_updated_epoch': 1719052200, 'last_updated': '2024-06-22 18:30', 'temp_c': 27.3, 'temp_f': 81.1, 'is_day': 1, 'condition': {'text': 'Partly cloudy', 'icon': '//cdn.weatherapi.com/weather/64x64/day/116.png', 'code': 1003}, 'wind_mph': 8.1, 'wind_kph': 13.0, 'wind_degree': 140, 'wind_dir': 'SE', 'pressure_mb': 1008.0, 'pressure_in': 29.77, 'precip_mm': 0.0, 'precip_in': 0.0, 'humidity': 74, 'cloud': 75, 'feelslike_c': 31.0, 'feelslike_f': 87.8, 'windchill_c': 26.4, 'windchill_f': 79.6, 'heatindex_c': 29.4, 'heatindex_f': 84.9, 'dewpoint_c': 22.9, 'dewpoint_f': 73.3, 'vis_km': 10.0, 'vis_miles': 6.0, 'uv': 6.0, 'gust_mph': 21.0, 'gust_kph': 33.8}}\"}]"
      ]
     },
     "execution_count": 3,
     "metadata": {},
     "output_type": "execute_result"
    }
   ],
   "source": [
    "search = TavilySearchResults(max_results=2)\n",
    "\n",
    "search.invoke(\"what is the weather in Singapore\")"
   ]
  },
  {
   "cell_type": "markdown",
   "id": "d6d0dcb8-a387-4e12-91a6-2501a409bb1a",
   "metadata": {},
   "source": [
    "If we want, we can create other tools. Once we have all the tools we want, we can put them in a list that we will reference later."
   ]
  },
  {
   "cell_type": "code",
   "execution_count": 4,
   "id": "f40d8119-3010-4206-8b29-80999e02d2ff",
   "metadata": {
    "tags": []
   },
   "outputs": [],
   "source": [
    "tools = [search]"
   ]
  },
  {
   "cell_type": "markdown",
   "id": "aa422807-04c0-413e-aca3-a83c86592fa6",
   "metadata": {},
   "source": [
    "# Using Language Models\n",
    "We will use the OpenAI gpt-4 model to call tools"
   ]
  },
  {
   "cell_type": "code",
   "execution_count": 5,
   "id": "78880639-d1e5-47e7-b026-577d195b9aa3",
   "metadata": {
    "tags": []
   },
   "outputs": [],
   "source": [
    "from langchain_openai import ChatOpenAI\n",
    "\n",
    "model = ChatOpenAI(model=\"gpt-4\")"
   ]
  },
  {
   "cell_type": "markdown",
   "id": "23eadf1a-437c-4100-9e70-0f8512a3d649",
   "metadata": {},
   "source": [
    "You can call the language model by passing in a list of messages. By default, the response is a `content` string."
   ]
  },
  {
   "cell_type": "code",
   "execution_count": 6,
   "id": "6ce6ff2e-b01f-41ea-8cab-19236c93885a",
   "metadata": {
    "tags": []
   },
   "outputs": [
    {
     "data": {
      "text/plain": [
       "'Hello! How can I assist you today?'"
      ]
     },
     "execution_count": 6,
     "metadata": {},
     "output_type": "execute_result"
    }
   ],
   "source": [
    "from langchain_core.messages import HumanMessage\n",
    "\n",
    "response = model.invoke([HumanMessage(content=\"hi!\")])\n",
    "response.content"
   ]
  },
  {
   "cell_type": "markdown",
   "id": "cfaa18c4-111e-4f8a-815a-8f23a52d51f8",
   "metadata": {},
   "source": [
    "We can now see what it is like to enable this model to do tool calling. In order to enable that we use `.bind_tools` to give the language model knowledge of these tools"
   ]
  },
  {
   "cell_type": "code",
   "execution_count": 7,
   "id": "a18970b0-c69c-475c-bfac-7281f1046369",
   "metadata": {
    "tags": []
   },
   "outputs": [],
   "source": [
    "model_with_tools = model \\\n",
    "                .bind_tools(tools) # The LLM has access to the tools list"
   ]
  },
  {
   "cell_type": "markdown",
   "id": "f5064749-9197-4467-aae6-d5bbaf25f503",
   "metadata": {},
   "source": [
    "We can now call the model. Let's first call it with a normal message, and see how it responds. We can look at both the `content` field as well as the `tool_calls` field."
   ]
  },
  {
   "cell_type": "code",
   "execution_count": 8,
   "id": "fb9d1deb-2517-4da1-aac8-e7896800d2c3",
   "metadata": {
    "tags": []
   },
   "outputs": [
    {
     "name": "stdout",
     "output_type": "stream",
     "text": [
      "ContentString: Hello! How can I assist you today?\n",
      "ToolCalls: []\n"
     ]
    }
   ],
   "source": [
    "response = model_with_tools.invoke([HumanMessage(content=\"Hi!\")])\n",
    "\n",
    "print(f\"ContentString: {response.content}\")\n",
    "print(f\"ToolCalls: {response.tool_calls}\")"
   ]
  },
  {
   "cell_type": "markdown",
   "id": "570b377c-d010-437b-a4ef-15671d1051d4",
   "metadata": {},
   "source": [
    "Now, let's try calling it with some input that would expect a tool to be called."
   ]
  },
  {
   "cell_type": "code",
   "execution_count": 9,
   "id": "c73144c8-e9d9-4d91-8857-0a4b807830f0",
   "metadata": {
    "tags": []
   },
   "outputs": [
    {
     "name": "stdout",
     "output_type": "stream",
     "text": [
      "ContentString: \n",
      "ToolCalls: [{'name': 'tavily_search_results_json', 'args': {'query': 'current weather in Singapore'}, 'id': 'call_UgxbZAt4omQfWzusuqt52tOq'}]\n"
     ]
    }
   ],
   "source": [
    "response = model_with_tools.invoke(\n",
    "    [HumanMessage(content=\"What's the weather in Singapore?\")]\n",
    ")\n",
    "\n",
    "print(f\"ContentString: {response.content}\")\n",
    "print(f\"ToolCalls: {response.tool_calls}\")"
   ]
  },
  {
   "cell_type": "markdown",
   "id": "f41edf88-b936-4b22-9683-82b994e627c3",
   "metadata": {},
   "source": [
    "We can see that there's now no content, but there is a tool call! It wants us to call the Tavily Search tool.\n",
    "\n",
    "This isn't calling that tool yet - it's just telling us to. In order to actually calll it, we'll want to create our agent.\n",
    "\n",
    "## Create the agent\n",
    "Now that we have defined the tools and the LLM, we can create the agent. We will be using LangGraph to construct the agent. Currently we are using a high level interface to construct the agent, but the nice thing about LangGraph is that this high-level interface is backed by a low-level, highly controllable API in case you want to modify the agent logic.\n",
    "\n",
    "Now, we can initalize the agent with the LLM and the tools.\n",
    "\n",
    "Note that we are passing in the `model`, not `model_with_tools`. That is because `create_tool_calling_executor` will call `.bind_tools` for us under the hood."
   ]
  },
  {
   "cell_type": "code",
   "execution_count": 10,
   "id": "625cb63b-28e0-49e4-9d6a-bbefdb4ba695",
   "metadata": {
    "tags": []
   },
   "outputs": [],
   "source": [
    "from langgraph.prebuilt import chat_agent_executor\n",
    "\n",
    "agent_executor = chat_agent_executor \\\n",
    "    .create_tool_calling_executor(model, tools)"
   ]
  },
  {
   "cell_type": "markdown",
   "id": "fd7f7b01-9b44-434d-a3de-509708f8354f",
   "metadata": {},
   "source": [
    "## Run the agent\n",
    "We can now run the agent on a few queries! Note that for now, these are all __stateless__ queries (it won't remember previous interactions). Note that the agent will return the __final__ state at the end of the interaction (which includes any inputs, we will see later on how to get only the outputs).\n",
    "\n",
    "First up, let's see how it responds when there's no need to call a tool:"
   ]
  },
  {
   "cell_type": "code",
   "execution_count": 11,
   "id": "effb9db5-30d0-4fec-a11d-96145a2ad8b3",
   "metadata": {
    "tags": []
   },
   "outputs": [
    {
     "data": {
      "text/plain": [
       "[HumanMessage(content='hi!', id='bf038711-098f-4056-a7ae-339b99a971ff'),\n",
       " AIMessage(content='Hello! How can I assist you today?', response_metadata={'token_usage': {'completion_tokens': 10, 'prompt_tokens': 83, 'total_tokens': 93}, 'model_name': 'gpt-4', 'system_fingerprint': None, 'finish_reason': 'stop', 'logprobs': None}, id='run-a4a97695-a830-4d97-94ff-b99e19a2f6b2-0')]"
      ]
     },
     "execution_count": 11,
     "metadata": {},
     "output_type": "execute_result"
    }
   ],
   "source": [
    "response = agent_executor.invoke({\"messages\": [HumanMessage(content=\"hi!\")]})\n",
    "\n",
    "response[\"messages\"]"
   ]
  },
  {
   "cell_type": "markdown",
   "id": "1290455e-793b-4c0b-8581-603ea7cc0e2a",
   "metadata": {},
   "source": [
    "In order to see exactly what is happening under the hood (and to make sure it's not calling a tool) we can take a look at the [LangSmith trace](https://smith.langchain.com/public/28311faa-e135-4d6a-ab6b-caecf6482aaa/r)\n",
    "\n",
    "Let's now try it out on an example where it should be invoking the tool"
   ]
  },
  {
   "cell_type": "code",
   "execution_count": 14,
   "id": "761b8a31-f412-432d-85e2-adfcc8f3630d",
   "metadata": {
    "tags": []
   },
   "outputs": [
    {
     "data": {
      "text/plain": [
       "[HumanMessage(content='whats the weather in Singapore?', id='568e394e-ea69-4704-b1c4-91dc914d1501'),\n",
       " AIMessage(content='', additional_kwargs={'tool_calls': [{'id': 'call_QFUuaQEZZzb9DJ6JqDfYueNt', 'function': {'arguments': '{\\n  \"query\": \"current weather in Singapore\"\\n}', 'name': 'tavily_search_results_json'}, 'type': 'function'}]}, response_metadata={'token_usage': {'completion_tokens': 22, 'prompt_tokens': 88, 'total_tokens': 110}, 'model_name': 'gpt-4', 'system_fingerprint': None, 'finish_reason': 'tool_calls', 'logprobs': None}, id='run-24e83d51-54b3-46bf-ab9f-fc0698191d19-0', tool_calls=[{'name': 'tavily_search_results_json', 'args': {'query': 'current weather in Singapore'}, 'id': 'call_QFUuaQEZZzb9DJ6JqDfYueNt'}]),\n",
       " ToolMessage(content='[{\"url\": \"https://www.wunderground.com/hourly/sg/singapore/WSSL/date/2024-06-22\", \"content\": \"Singapore Weather Forecasts. Weather Underground provides local & long-range weather forecasts, weatherreports, maps & tropical weather conditions for the Singapore area. ... Saturday 06/22 Hourly ...\"}, {\"url\": \"https://www.weatherapi.com/\", \"content\": \"{\\'location\\': {\\'name\\': \\'Singapore\\', \\'region\\': \\'\\', \\'country\\': \\'Singapore\\', \\'lat\\': 1.29, \\'lon\\': 103.86, \\'tz_id\\': \\'Asia/Singapore\\', \\'localtime_epoch\\': 1719053043, \\'localtime\\': \\'2024-06-22 18:44\\'}, \\'current\\': {\\'last_updated_epoch\\': 1719052200, \\'last_updated\\': \\'2024-06-22 18:30\\', \\'temp_c\\': 27.3, \\'temp_f\\': 81.1, \\'is_day\\': 1, \\'condition\\': {\\'text\\': \\'Partly cloudy\\', \\'icon\\': \\'//cdn.weatherapi.com/weather/64x64/day/116.png\\', \\'code\\': 1003}, \\'wind_mph\\': 8.1, \\'wind_kph\\': 13.0, \\'wind_degree\\': 140, \\'wind_dir\\': \\'SE\\', \\'pressure_mb\\': 1008.0, \\'pressure_in\\': 29.77, \\'precip_mm\\': 0.0, \\'precip_in\\': 0.0, \\'humidity\\': 74, \\'cloud\\': 75, \\'feelslike_c\\': 31.0, \\'feelslike_f\\': 87.8, \\'windchill_c\\': 26.4, \\'windchill_f\\': 79.6, \\'heatindex_c\\': 29.4, \\'heatindex_f\\': 84.9, \\'dewpoint_c\\': 22.9, \\'dewpoint_f\\': 73.3, \\'vis_km\\': 10.0, \\'vis_miles\\': 6.0, \\'uv\\': 6.0, \\'gust_mph\\': 21.0, \\'gust_kph\\': 33.8}}\"}]', name='tavily_search_results_json', id='1b1f4b89-5daf-4875-bd34-dfddeb5d7d64', tool_call_id='call_QFUuaQEZZzb9DJ6JqDfYueNt'),\n",
       " AIMessage(content='The current weather in Singapore is partly cloudy with a temperature of 27.3°C (81.1°F). The wind is blowing from the southeast at a speed of 13.0 km/h. The humidity level is at 74%, and the visibility is 10.0 km. The UV index is 6.0. [source](https://www.weatherapi.com/)', response_metadata={'token_usage': {'completion_tokens': 79, 'prompt_tokens': 592, 'total_tokens': 671}, 'model_name': 'gpt-4', 'system_fingerprint': None, 'finish_reason': 'stop', 'logprobs': None}, id='run-31bfe51a-a101-434d-b713-f4ee96be6431-0')]"
      ]
     },
     "execution_count": 14,
     "metadata": {},
     "output_type": "execute_result"
    }
   ],
   "source": [
    "response = agent_executor.invoke(\n",
    "    {\"messages\": [HumanMessage(content=\"whats the weather in Singapore?\")]}\n",
    ")\n",
    "response[\"messages\"]"
   ]
  },
  {
   "cell_type": "markdown",
   "id": "1bf16734-c068-4481-9c90-a72f3521cec7",
   "metadata": {},
   "source": [
    "We can check out the [LangSmith trace](https://smith.langchain.com/public/f520839d-cd4d-4495-8764-e32b548e235d/r) to make sure it's calling the search tool effectively."
   ]
  },
  {
   "cell_type": "markdown",
   "id": "7a7af406-5c90-46bb-b9d4-b70592c603ae",
   "metadata": {
    "tags": []
   },
   "source": [
    "## Streaming Messages\n",
    "We've seen how the agent can be called with `.invoke` to get back a final response. If the agent is executing multiple steps, that may take a while. In order to show intermediate progress, we can stream back messages as they occur."
   ]
  },
  {
   "cell_type": "code",
   "execution_count": 15,
   "id": "4a3c7b67-dcda-4113-93bd-3153d02935ad",
   "metadata": {
    "tags": []
   },
   "outputs": [
    {
     "name": "stdout",
     "output_type": "stream",
     "text": [
      "{'agent': {'messages': [AIMessage(content='', additional_kwargs={'tool_calls': [{'id': 'call_LrXe7u3B0yZdoHns5arZkgmM', 'function': {'arguments': '{\\n  \"query\": \"current weather in Singapore\"\\n}', 'name': 'tavily_search_results_json'}, 'type': 'function'}]}, response_metadata={'token_usage': {'completion_tokens': 22, 'prompt_tokens': 88, 'total_tokens': 110}, 'model_name': 'gpt-4', 'system_fingerprint': None, 'finish_reason': 'tool_calls', 'logprobs': None}, id='run-c176b99b-4b7e-4dd2-9047-1c744cad3ffe-0', tool_calls=[{'name': 'tavily_search_results_json', 'args': {'query': 'current weather in Singapore'}, 'id': 'call_LrXe7u3B0yZdoHns5arZkgmM'}])]}}\n",
      "----\n",
      "{'tools': {'messages': [ToolMessage(content='[{\"url\": \"https://www.weatherapi.com/\", \"content\": \"{\\'location\\': {\\'name\\': \\'Singapore\\', \\'region\\': \\'\\', \\'country\\': \\'Singapore\\', \\'lat\\': 1.29, \\'lon\\': 103.86, \\'tz_id\\': \\'Asia/Singapore\\', \\'localtime_epoch\\': 1719053043, \\'localtime\\': \\'2024-06-22 18:44\\'}, \\'current\\': {\\'last_updated_epoch\\': 1719052200, \\'last_updated\\': \\'2024-06-22 18:30\\', \\'temp_c\\': 27.3, \\'temp_f\\': 81.1, \\'is_day\\': 1, \\'condition\\': {\\'text\\': \\'Partly cloudy\\', \\'icon\\': \\'//cdn.weatherapi.com/weather/64x64/day/116.png\\', \\'code\\': 1003}, \\'wind_mph\\': 8.1, \\'wind_kph\\': 13.0, \\'wind_degree\\': 140, \\'wind_dir\\': \\'SE\\', \\'pressure_mb\\': 1008.0, \\'pressure_in\\': 29.77, \\'precip_mm\\': 0.0, \\'precip_in\\': 0.0, \\'humidity\\': 74, \\'cloud\\': 75, \\'feelslike_c\\': 31.0, \\'feelslike_f\\': 87.8, \\'windchill_c\\': 26.4, \\'windchill_f\\': 79.6, \\'heatindex_c\\': 29.4, \\'heatindex_f\\': 84.9, \\'dewpoint_c\\': 22.9, \\'dewpoint_f\\': 73.3, \\'vis_km\\': 10.0, \\'vis_miles\\': 6.0, \\'uv\\': 6.0, \\'gust_mph\\': 21.0, \\'gust_kph\\': 33.8}}\"}, {\"url\": \"http://www.weather.gov.sg/home/\", \"content\": \"18 JUN 2024. Short-Duration Thundery Showers on Most Days in Second Half of June 2024. 31 MAY 2024. Drier Conditions in the First Fortnight of June 2024. 16 MAY 2024. Wet Conditions to Continue in the Coming Days, Less Wet Weather Expected Towards End May 2024. View all news \\\\u00bb\"}]', name='tavily_search_results_json', tool_call_id='call_LrXe7u3B0yZdoHns5arZkgmM')]}}\n",
      "----\n",
      "{'agent': {'messages': [AIMessage(content='The current weather in Singapore is partly cloudy with a temperature of 27.3°C (81.1°F). The wind is coming from the southeast at a speed of 13.0 kph (8.1 mph). The humidity is at 74% and visibility is at 10.0 km. The UV index is 6.0. Please note that this information was last updated on June 22, 2024, at 18:30 local time. [Source](https://www.weatherapi.com/)\\n', response_metadata={'token_usage': {'completion_tokens': 108, 'prompt_tokens': 619, 'total_tokens': 727}, 'model_name': 'gpt-4', 'system_fingerprint': None, 'finish_reason': 'stop', 'logprobs': None}, id='run-906702e9-dc69-4164-bcc0-518c2654cab5-0')]}}\n",
      "----\n"
     ]
    }
   ],
   "source": [
    "for chunk in agent_executor.stream(\n",
    "    {\"messages\": [HumanMessage(content=\"whats the weather in Singapore?\")]}\n",
    "):\n",
    "    print(chunk)\n",
    "    print(\"----\")"
   ]
  },
  {
   "cell_type": "markdown",
   "id": "8ebb5015-8b7a-4f86-9a91-7bee2a7ed647",
   "metadata": {},
   "source": [
    "## Streaming tokens\n",
    "In addition to streaming back messages, it is also useful to be streaming back tokens. We can do this with the `.astream_events` method.\n",
    "\n",
    "*INFO: This .astream_events method only works with Python 3.11 or higher.*"
   ]
  },
  {
   "cell_type": "code",
   "execution_count": 16,
   "id": "87f2d248-b8f5-431d-86cb-b5daea1439d9",
   "metadata": {
    "tags": []
   },
   "outputs": [
    {
     "name": "stderr",
     "output_type": "stream",
     "text": [
      "/home/ubuntu/.local/lib/python3.11/site-packages/langchain_core/_api/beta_decorator.py:87: LangChainBetaWarning: This API is in beta and may change in the future.\n",
      "  warn_beta(\n"
     ]
    },
    {
     "name": "stdout",
     "output_type": "stream",
     "text": [
      "--\n",
      "Starting tool: tavily_search_results_json with inputs: {'query': 'current weather in Singapore'}\n",
      "Done tool: tavily_search_results_json\n",
      "Tool output was: [{'url': 'https://world-weather.info/forecast/singapore/singapore/june-2024/', 'content': 'Extended weather forecast in Singapore. Hourly Week 10 days 14 days 30 days Year. Detailed ⚡ Singapore Weather Forecast for June 2024 - day/night 🌡️ temperatures, precipitations - World-Weather.info.'}, {'url': 'https://www.weatherapi.com/', 'content': \"{'location': {'name': 'Singapore', 'region': '', 'country': 'Singapore', 'lat': 1.29, 'lon': 103.86, 'tz_id': 'Asia/Singapore', 'localtime_epoch': 1719053043, 'localtime': '2024-06-22 18:44'}, 'current': {'last_updated_epoch': 1719052200, 'last_updated': '2024-06-22 18:30', 'temp_c': 27.3, 'temp_f': 81.1, 'is_day': 1, 'condition': {'text': 'Partly cloudy', 'icon': '//cdn.weatherapi.com/weather/64x64/day/116.png', 'code': 1003}, 'wind_mph': 8.1, 'wind_kph': 13.0, 'wind_degree': 140, 'wind_dir': 'SE', 'pressure_mb': 1008.0, 'pressure_in': 29.77, 'precip_mm': 0.0, 'precip_in': 0.0, 'humidity': 74, 'cloud': 75, 'feelslike_c': 31.0, 'feelslike_f': 87.8, 'windchill_c': 26.4, 'windchill_f': 79.6, 'heatindex_c': 29.4, 'heatindex_f': 84.9, 'dewpoint_c': 22.9, 'dewpoint_f': 73.3, 'vis_km': 10.0, 'vis_miles': 6.0, 'uv': 6.0, 'gust_mph': 21.0, 'gust_kph': 33.8}}\"}]\n",
      "--\n",
      "The| current| weather| in| Singapore| is| partly| cloudy| with| a| temperature| of| |27|.|3|°C| (|81|.|1|°F|).| The| wind| is| coming| from| the| southeast| at| a| speed| of| |13|.|0| k|ph| (|8|.|1| mph|).| The| humidity| is| at| |74|%| and| the| visibility| is| |10|.|0| km| (|6|.|0| miles|).| The| UV| index| is| |6|.|0|.|"
     ]
    }
   ],
   "source": [
    "async for event in agent_executor.astream_events(\n",
    "    {\"messages\": [HumanMessage(content=\"whats the weather in Singapore?\")]}, version=\"v1\"\n",
    "):\n",
    "    kind = event[\"event\"]\n",
    "    if kind == \"on_chain_start\":\n",
    "        if (\n",
    "            event[\"name\"] == \"Agent\"\n",
    "        ):  # Was assigned when creating the agent with `.with_config({\"run_name\": \"Agent\"})`\n",
    "            print(\n",
    "                f\"Starting agent: {event['name']} with input: {event['data'].get('input')}\"\n",
    "            )\n",
    "    elif kind == \"on_chain_end\":\n",
    "        if (\n",
    "            event[\"name\"] == \"Agent\"\n",
    "        ):  # Was assigned when creating the agent with `.with_config({\"run_name\": \"Agent\"})`\n",
    "            print()\n",
    "            print(\"--\")\n",
    "            print(\n",
    "                f\"Done agent: {event['name']} with output: {event['data'].get('output')['output']}\"\n",
    "            )\n",
    "    if kind == \"on_chat_model_stream\":\n",
    "        content = event[\"data\"][\"chunk\"].content\n",
    "        if content:\n",
    "            # Empty content in the context of OpenAI means\n",
    "            # that the model is asking for a tool to be invoked.\n",
    "            # So we only print non-empty content\n",
    "            print(content, end=\"|\")\n",
    "    elif kind == \"on_tool_start\":\n",
    "        print(\"--\")\n",
    "        print(\n",
    "            f\"Starting tool: {event['name']} with inputs: {event['data'].get('input')}\"\n",
    "        )\n",
    "    elif kind == \"on_tool_end\":\n",
    "        print(f\"Done tool: {event['name']}\")\n",
    "        print(f\"Tool output was: {event['data'].get('output')}\")\n",
    "        print(\"--\")"
   ]
  },
  {
   "cell_type": "markdown",
   "id": "75c3a643-33cd-4883-add7-0f731620aafb",
   "metadata": {},
   "source": [
    "## Adding in memory\n",
    "As mentioned earlier, this agent is stateless. This means it does not remember previous interactions. To give it memory we need to pass in a checkpointer. When passing in a checkpointer, we also have to pass in a `thread_id` when invoking the agent (so it knows which thread/conversation to resume from)."
   ]
  },
  {
   "cell_type": "code",
   "execution_count": 28,
   "id": "59b20545-fac1-460a-ba15-b8f5a0b19a59",
   "metadata": {
    "tags": []
   },
   "outputs": [
    {
     "name": "stdout",
     "output_type": "stream",
     "text": [
      "{'agent': {'messages': [AIMessage(content='Hello Bob! How can I assist you today?', response_metadata={'token_usage': {'completion_tokens': 11, 'prompt_tokens': 85, 'total_tokens': 96}, 'model_name': 'gpt-4', 'system_fingerprint': None, 'finish_reason': 'stop', 'logprobs': None}, id='run-812fabb3-3d32-4c56-91c1-8b088bfed646-0')]}}\n",
      "----\n"
     ]
    }
   ],
   "source": [
    "### Create an in-memory checkpointer using Sqllite\n",
    "from langgraph.checkpoint.sqlite import SqliteSaver\n",
    "\n",
    "memory = SqliteSaver.from_conn_string(\":memory:\")\n",
    "\n",
    "### Create an agent by passing in model, tools, and checkpointer\n",
    "agent_executor = chat_agent_executor.create_tool_calling_executor(\n",
    "    model=model,\n",
    "    tools=tools,\n",
    "    checkpointer=memory\n",
    ")\n",
    "\n",
    "config = {\"configurable\": \n",
    "          {\"thread_id\": \"abc123\"} # thread_id keeps track of which thread/conversation to resume from\n",
    "         }\n",
    "\n",
    "### Send prompt to agent_executor and stream output\n",
    "for chunk in agent_executor.stream(\n",
    "    input={\"messages\": [HumanMessage(content=\"hi im bob!\")]},\n",
    "    config=config,\n",
    "):\n",
    "    print(chunk)\n",
    "    print(\"----\")"
   ]
  },
  {
   "cell_type": "code",
   "execution_count": 29,
   "id": "88612c6f-4ed0-48f2-89fa-4036716358d3",
   "metadata": {
    "tags": []
   },
   "outputs": [
    {
     "name": "stdout",
     "output_type": "stream",
     "text": [
      "{'agent': {'messages': [AIMessage(content='Your name is Bob.', response_metadata={'token_usage': {'completion_tokens': 6, 'prompt_tokens': 108, 'total_tokens': 114}, 'model_name': 'gpt-4', 'system_fingerprint': None, 'finish_reason': 'stop', 'logprobs': None}, id='run-fe6ce6d7-69ae-4139-8cb3-d24a6bde6d46-0')]}}\n",
      "----\n"
     ]
    }
   ],
   "source": [
    "for chunk in agent_executor.stream(\n",
    "    {\"messages\": [HumanMessage(content=\"whats my name?\")]}, config\n",
    "):\n",
    "    print(chunk)\n",
    "    print(\"----\")"
   ]
  },
  {
   "cell_type": "markdown",
   "id": "429a71a8-a97f-4bbd-bd12-d55f182f79be",
   "metadata": {},
   "source": [
    "If I want to start a new conversation, all I have to do is change the `thread_id` used"
   ]
  },
  {
   "cell_type": "markdown",
   "id": "54f5778a-8b52-4ba3-981a-1fe73e24311f",
   "metadata": {
    "tags": []
   },
   "source": [
    "## Conclusion\n",
    "That's a wrap! In this quick start we covered how to create a simple agent. We've then shown how to stream back a response - not only the intermediate steps, but also tokens! We've also added in memory so you can have a conversation with them. Agents are a complex topic, and there's lot to learn!\n",
    "\n",
    "For more information on Agents, please check out the [LangGraph](https://python.langchain.com/v0.2/docs/concepts/#langgraph) documentation. This has it's own set of concepts, tutorials, and how-to guides."
   ]
  }
 ],
 "metadata": {
  "kernelspec": {
   "display_name": "Python 3.11 for LLM",
   "language": "python",
   "name": "llm-python-3-11"
  },
  "language_info": {
   "codemirror_mode": {
    "name": "ipython",
    "version": 3
   },
   "file_extension": ".py",
   "mimetype": "text/x-python",
   "name": "python",
   "nbconvert_exporter": "python",
   "pygments_lexer": "ipython3",
   "version": "3.11.8"
  }
 },
 "nbformat": 4,
 "nbformat_minor": 5
}
